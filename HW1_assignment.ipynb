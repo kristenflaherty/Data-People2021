{
 "cells": [
  {
   "cell_type": "markdown",
   "metadata": {},
   "source": [
    "# ORIE 5355/INFO 5370 HW 1: Survey Weighting"
   ]
  },
  {
   "cell_type": "markdown",
   "metadata": {},
   "source": [
    " - Name: Kristen Flaherty\n",
    " - Net-id: kf293\n",
    " - Date: 9-19-2021\n",
    " - Late days used for this assignment: 0\n",
    " - Total late days used (counting this assignment): 3\n",
    " - People with whom you discussed this assignment: Hayden & Heisu"
   ]
  },
  {
   "cell_type": "markdown",
   "metadata": {
    "ExecuteTime": {
     "end_time": "2021-09-01T19:23:05.646804Z",
     "start_time": "2021-09-01T19:23:05.610804Z"
    }
   },
   "source": [
    "After you finish the homework, please complete the following (short, anonymous) post-homework survey: https://forms.gle/spVRAkxcqcDuxkuY6"
   ]
  },
  {
   "cell_type": "markdown",
   "metadata": {},
   "source": [
    "We have marked questions in <font color='blue'> blue </font>. Please put answers in black (do not change colors). You'll want to write text answers in \"markdown\" mode instead of code. In Jupyter notebook, you can go to Cell > Cell Type > Markdown, from the menu. Please carefully read the late days policy and grading procedure [here](https://orie5355.github.io/Fall_2021/assignments/). "
   ]
  },
  {
   "cell_type": "markdown",
   "metadata": {},
   "source": [
    "# Conceptual component"
   ]
  },
  {
   "cell_type": "markdown",
   "metadata": {},
   "source": [
    "### 1) Reading"
   ]
  },
  {
   "cell_type": "markdown",
   "metadata": {},
   "source": [
    "<font color='blue'> Please read Sections 3 and 4 (pages 6-13) here: https://www.nber.org/system/files/working_papers/w20830/w20830.pdf, and answer the following questions."
   ]
  },
  {
   "cell_type": "markdown",
   "metadata": {},
   "source": [
    "<font color='blue'> Please summarize the sections in no more than two sentences. "
   ]
  },
  {
   "cell_type": "markdown",
   "metadata": {},
   "source": [
    "eBay's current system of measuring productive seller feedback and seller quality are biased (highly skewed), are generally hard for eBay buyers to interpret, and make it near impossible to accurately tell whether a seller is reliable or not. By creating a new, less biased metric to better capture seller quality that leverages the fact that buyers who had a negative experience with a seller are less likely to leave a negative review, the authors offer an improvement to eBay's reputation feedback system which more accurately quantifies the quality of eBay sellers."
   ]
  },
  {
   "cell_type": "markdown",
   "metadata": {},
   "source": [
    "<font color='blue'> Do you think it's a problem that most ratings are positive? If so, why? Answer in no more than three sentences. Please incorporate concepts discussed in class in your answer. "
   ]
  },
  {
   "cell_type": "markdown",
   "metadata": {},
   "source": [
    "Yes, it's a problem that most ratings are positive because it makes it harder for buyers to confidently assume that a positively-rated seller is a reliable seller. This problem arises in part because eBay's measurement of seller quality is an example of ambiguous concept-to-measure mapping: the current metric fails to encorporate the numerous and complex factors that influence seller quality/reputation on eBay. The main reason that this inflation of positive ratings is a problem is the high amount of differential nonresponse seen here: the buyers who had negative experiences with eBay sellers are less likley to leave a negative rating about their bad experience, thus inflating the positive ratings that already exist on the seller's profile. "
   ]
  },
  {
   "cell_type": "markdown",
   "metadata": {},
   "source": [
    "### 2) Personal reflection"
   ]
  },
  {
   "cell_type": "markdown",
   "metadata": {},
   "source": [
    "<font color='blue'> Think back to a time that you trained a model on data from people or gathered opinions via a survey (an informal one is fine). If you have not done that before, you may answer these questions about an article in the news that reported on public opinions or a model that you think might be in deployment at a company or organization with which you interact (for example, Amazon, google maps, etc)"
   ]
  },
  {
   "cell_type": "markdown",
   "metadata": {},
   "source": [
    "<font color='blue'> Briefly summarize the scenario in no more than two sentences. "
   ]
  },
  {
   "cell_type": "markdown",
   "metadata": {},
   "source": [
    "In my most recent position, I analyzed transcripts and nonverbal interaction data from a team's problem solving session and used a model to predict their level of attention on the task and on each other."
   ]
  },
  {
   "cell_type": "markdown",
   "metadata": {},
   "source": [
    "\n",
    "\n",
    "<font color='blue'> What was the construct that you cared about/wanted to measure? What was the measurement (numerical data)? In what ways did the measurement not match the construct you cared about? Answer in no more than 4 sentences.  "
   ]
  },
  {
   "cell_type": "markdown",
   "metadata": {},
   "source": [
    "We aimed to measure team engagement at a high level: how much team members cared about the problem solving task at hand and how well they worked together. We measured their attention using computer vision techniques to collect head, body, and eye movements (quantitative data over a certain amount of time), and also asked the teammates to report their level of attention and engagement with each other. The measurement may not have perfectly matched our construct because there is no reliable way to measure attention (even from self disclosure: risk of social desirability). Based on background work, we use attention as a proxy for team engagement, although many factors of individual teammate behavior and overall team dynamics may alter the relationshp between attention and team engagement."
   ]
  },
  {
   "cell_type": "markdown",
   "metadata": {},
   "source": [
    "<font color='blue'> What selection biases/differential non-response issues occurred and how did it affect your measurement? (If your answer is \"None,\" explain exactly why you believe the assumptions discussed in class were met). Answer in no more than 3 sentences. "
   ]
  },
  {
   "cell_type": "markdown",
   "metadata": {},
   "source": [
    "More often than not, teammates reported that they were attentive and liked working with their teammates. This occured in the context of research, so participants may have wanted to (even unconsciously) appear more socially desirable to the research, and so might have failed to report any negative experiences or inattention they may have had during the problem solving task. This could have positively skewed our results of attention and team engagement, so that we could have not accurately measured team attention and engagement in the broader sense."
   ]
  },
  {
   "cell_type": "markdown",
   "metadata": {},
   "source": [
    "<font color='blue'> Given what we have learned in class so far, what would you do differently if faced with the same scenario again? Answer in no more than 3 sentences. "
   ]
  },
  {
   "cell_type": "markdown",
   "metadata": {},
   "source": [
    "I would probably disclose to the participants that they should report all feelings (negative, positive, and neutral) in the post task survey, and that their answers will be completely anonymous (even to the research taem) and not shared with anyone else outside of the research team. I would also probably explore different ways to measure team engagement rather than solely on attention and on team member self report."
   ]
  },
  {
   "cell_type": "markdown",
   "metadata": {},
   "source": [
    "# Programming component"
   ]
  },
  {
   "cell_type": "markdown",
   "metadata": {},
   "source": [
    "<font color='blue'> In this part of the homework, we provide you with data from a poll in Florida before the 2016 Presidential election in the United States. We also provide you with (one pollster's) estimates of who will vote in the 2016 election, made before the election. You will use this data and apply the weighting techniques covered in class."
   ]
  },
  {
   "cell_type": "markdown",
   "metadata": {},
   "source": [
    "## Preliminaries to load packages and data"
   ]
  },
  {
   "cell_type": "code",
   "execution_count": 1,
   "metadata": {
    "ExecuteTime": {
     "end_time": "2021-09-01T20:57:32.311779Z",
     "start_time": "2021-09-01T20:57:32.270775Z"
    }
   },
   "outputs": [],
   "source": [
    "import pandas as pd\n",
    "import numpy as np"
   ]
  },
  {
   "cell_type": "code",
   "execution_count": 2,
   "metadata": {
    "ExecuteTime": {
     "end_time": "2021-09-01T20:57:32.581776Z",
     "start_time": "2021-09-01T20:57:32.454782Z"
    }
   },
   "outputs": [
    {
     "data": {
      "text/html": [
       "<div>\n",
       "<style scoped>\n",
       "    .dataframe tbody tr th:only-of-type {\n",
       "        vertical-align: middle;\n",
       "    }\n",
       "\n",
       "    .dataframe tbody tr th {\n",
       "        vertical-align: top;\n",
       "    }\n",
       "\n",
       "    .dataframe thead th {\n",
       "        text-align: right;\n",
       "    }\n",
       "</style>\n",
       "<table border=\"1\" class=\"dataframe\">\n",
       "  <thead>\n",
       "    <tr style=\"text-align: right;\">\n",
       "      <th></th>\n",
       "      <th>candidate</th>\n",
       "      <th>age</th>\n",
       "      <th>gender</th>\n",
       "      <th>party</th>\n",
       "      <th>race</th>\n",
       "      <th>education</th>\n",
       "    </tr>\n",
       "  </thead>\n",
       "  <tbody>\n",
       "    <tr>\n",
       "      <td>0</td>\n",
       "      <td>Someone else</td>\n",
       "      <td>30-44</td>\n",
       "      <td>Male</td>\n",
       "      <td>Independent</td>\n",
       "      <td>White</td>\n",
       "      <td>College</td>\n",
       "    </tr>\n",
       "    <tr>\n",
       "      <td>1</td>\n",
       "      <td>Hillary Clinton</td>\n",
       "      <td>45-64</td>\n",
       "      <td>Male</td>\n",
       "      <td>Republican</td>\n",
       "      <td>Hispanic</td>\n",
       "      <td>College</td>\n",
       "    </tr>\n",
       "    <tr>\n",
       "      <td>2</td>\n",
       "      <td>Hillary Clinton</td>\n",
       "      <td>30-44</td>\n",
       "      <td>Male</td>\n",
       "      <td>Independent</td>\n",
       "      <td>Hispanic</td>\n",
       "      <td>College</td>\n",
       "    </tr>\n",
       "    <tr>\n",
       "      <td>3</td>\n",
       "      <td>Hillary Clinton</td>\n",
       "      <td>65+</td>\n",
       "      <td>Female</td>\n",
       "      <td>Democrat</td>\n",
       "      <td>White</td>\n",
       "      <td>College</td>\n",
       "    </tr>\n",
       "    <tr>\n",
       "      <td>4</td>\n",
       "      <td>Donald Trump</td>\n",
       "      <td>65+</td>\n",
       "      <td>Female</td>\n",
       "      <td>Republican</td>\n",
       "      <td>White</td>\n",
       "      <td>High School</td>\n",
       "    </tr>\n",
       "    <tr>\n",
       "      <td>...</td>\n",
       "      <td>...</td>\n",
       "      <td>...</td>\n",
       "      <td>...</td>\n",
       "      <td>...</td>\n",
       "      <td>...</td>\n",
       "      <td>...</td>\n",
       "    </tr>\n",
       "    <tr>\n",
       "      <td>862</td>\n",
       "      <td>Hillary Clinton</td>\n",
       "      <td>65+</td>\n",
       "      <td>Male</td>\n",
       "      <td>Democrat</td>\n",
       "      <td>White</td>\n",
       "      <td>Some College</td>\n",
       "    </tr>\n",
       "    <tr>\n",
       "      <td>863</td>\n",
       "      <td>Donald Trump</td>\n",
       "      <td>65+</td>\n",
       "      <td>Male</td>\n",
       "      <td>Independent</td>\n",
       "      <td>White</td>\n",
       "      <td>College</td>\n",
       "    </tr>\n",
       "    <tr>\n",
       "      <td>864</td>\n",
       "      <td>Hillary Clinton</td>\n",
       "      <td>18-29</td>\n",
       "      <td>Female</td>\n",
       "      <td>Democrat</td>\n",
       "      <td>Other</td>\n",
       "      <td>College</td>\n",
       "    </tr>\n",
       "    <tr>\n",
       "      <td>865</td>\n",
       "      <td>Do not know</td>\n",
       "      <td>45-64</td>\n",
       "      <td>Male</td>\n",
       "      <td>Independent</td>\n",
       "      <td>Refused</td>\n",
       "      <td>Refused</td>\n",
       "    </tr>\n",
       "    <tr>\n",
       "      <td>866</td>\n",
       "      <td>Hillary Clinton</td>\n",
       "      <td>65+</td>\n",
       "      <td>Male</td>\n",
       "      <td>Democrat</td>\n",
       "      <td>White</td>\n",
       "      <td>College</td>\n",
       "    </tr>\n",
       "  </tbody>\n",
       "</table>\n",
       "<p>867 rows × 6 columns</p>\n",
       "</div>"
      ],
      "text/plain": [
       "           candidate    age  gender        party      race     education\n",
       "0       Someone else  30-44    Male  Independent     White       College\n",
       "1    Hillary Clinton  45-64    Male   Republican  Hispanic       College\n",
       "2    Hillary Clinton  30-44    Male  Independent  Hispanic       College\n",
       "3    Hillary Clinton    65+  Female     Democrat     White       College\n",
       "4       Donald Trump    65+  Female   Republican     White   High School\n",
       "..               ...    ...     ...          ...       ...           ...\n",
       "862  Hillary Clinton    65+    Male     Democrat     White  Some College\n",
       "863     Donald Trump    65+    Male  Independent     White       College\n",
       "864  Hillary Clinton  18-29  Female     Democrat     Other       College\n",
       "865      Do not know  45-64    Male  Independent   Refused       Refused\n",
       "866  Hillary Clinton    65+    Male     Democrat     White       College\n",
       "\n",
       "[867 rows x 6 columns]"
      ]
     },
     "execution_count": 2,
     "metadata": {},
     "output_type": "execute_result"
    }
   ],
   "source": [
    "dfpoll = pd.read_csv('polling_data_hw1.csv') # raw polling data\n",
    "dfpoll"
   ]
  },
  {
   "cell_type": "code",
   "execution_count": 3,
   "metadata": {
    "ExecuteTime": {
     "end_time": "2021-09-01T20:57:32.658773Z",
     "start_time": "2021-09-01T20:57:32.605777Z"
    }
   },
   "outputs": [
    {
     "data": {
      "text/html": [
       "<div>\n",
       "<style scoped>\n",
       "    .dataframe tbody tr th:only-of-type {\n",
       "        vertical-align: middle;\n",
       "    }\n",
       "\n",
       "    .dataframe tbody tr th {\n",
       "        vertical-align: top;\n",
       "    }\n",
       "\n",
       "    .dataframe thead th {\n",
       "        text-align: right;\n",
       "    }\n",
       "</style>\n",
       "<table border=\"1\" class=\"dataframe\">\n",
       "  <thead>\n",
       "    <tr style=\"text-align: right;\">\n",
       "      <th></th>\n",
       "      <th>Electoral_Proportion</th>\n",
       "      <th>Demographic_Type_1</th>\n",
       "      <th>Demographic_Type_2</th>\n",
       "      <th>Demographic_1</th>\n",
       "      <th>Demographic_2</th>\n",
       "    </tr>\n",
       "  </thead>\n",
       "  <tbody>\n",
       "    <tr>\n",
       "      <td>0</td>\n",
       "      <td>0.387927</td>\n",
       "      <td>party</td>\n",
       "      <td>NaN</td>\n",
       "      <td>Democrat</td>\n",
       "      <td>NaN</td>\n",
       "    </tr>\n",
       "    <tr>\n",
       "      <td>1</td>\n",
       "      <td>0.398788</td>\n",
       "      <td>party</td>\n",
       "      <td>NaN</td>\n",
       "      <td>Republican</td>\n",
       "      <td>NaN</td>\n",
       "    </tr>\n",
       "    <tr>\n",
       "      <td>2</td>\n",
       "      <td>0.213285</td>\n",
       "      <td>party</td>\n",
       "      <td>NaN</td>\n",
       "      <td>Independent</td>\n",
       "      <td>NaN</td>\n",
       "    </tr>\n",
       "    <tr>\n",
       "      <td>3</td>\n",
       "      <td>0.445928</td>\n",
       "      <td>gender</td>\n",
       "      <td>NaN</td>\n",
       "      <td>Male</td>\n",
       "      <td>NaN</td>\n",
       "    </tr>\n",
       "    <tr>\n",
       "      <td>4</td>\n",
       "      <td>0.554072</td>\n",
       "      <td>gender</td>\n",
       "      <td>NaN</td>\n",
       "      <td>Female</td>\n",
       "      <td>NaN</td>\n",
       "    </tr>\n",
       "    <tr>\n",
       "      <td>5</td>\n",
       "      <td>0.109728</td>\n",
       "      <td>age</td>\n",
       "      <td>NaN</td>\n",
       "      <td>18-29</td>\n",
       "      <td>NaN</td>\n",
       "    </tr>\n",
       "    <tr>\n",
       "      <td>6</td>\n",
       "      <td>0.182219</td>\n",
       "      <td>age</td>\n",
       "      <td>NaN</td>\n",
       "      <td>30-44</td>\n",
       "      <td>NaN</td>\n",
       "    </tr>\n",
       "    <tr>\n",
       "      <td>7</td>\n",
       "      <td>0.378175</td>\n",
       "      <td>age</td>\n",
       "      <td>NaN</td>\n",
       "      <td>45-64</td>\n",
       "      <td>NaN</td>\n",
       "    </tr>\n",
       "    <tr>\n",
       "      <td>8</td>\n",
       "      <td>0.329879</td>\n",
       "      <td>age</td>\n",
       "      <td>NaN</td>\n",
       "      <td>65+</td>\n",
       "      <td>NaN</td>\n",
       "    </tr>\n",
       "    <tr>\n",
       "      <td>9</td>\n",
       "      <td>0.697968</td>\n",
       "      <td>race</td>\n",
       "      <td>NaN</td>\n",
       "      <td>White</td>\n",
       "      <td>NaN</td>\n",
       "    </tr>\n",
       "    <tr>\n",
       "      <td>10</td>\n",
       "      <td>0.135672</td>\n",
       "      <td>race</td>\n",
       "      <td>NaN</td>\n",
       "      <td>Black</td>\n",
       "      <td>NaN</td>\n",
       "    </tr>\n",
       "    <tr>\n",
       "      <td>11</td>\n",
       "      <td>0.129719</td>\n",
       "      <td>race</td>\n",
       "      <td>NaN</td>\n",
       "      <td>Hispanic</td>\n",
       "      <td>NaN</td>\n",
       "    </tr>\n",
       "    <tr>\n",
       "      <td>12</td>\n",
       "      <td>0.036641</td>\n",
       "      <td>race</td>\n",
       "      <td>NaN</td>\n",
       "      <td>Other</td>\n",
       "      <td>NaN</td>\n",
       "    </tr>\n",
       "    <tr>\n",
       "      <td>13</td>\n",
       "      <td>0.374316</td>\n",
       "      <td>education</td>\n",
       "      <td>NaN</td>\n",
       "      <td>High School</td>\n",
       "      <td>NaN</td>\n",
       "    </tr>\n",
       "    <tr>\n",
       "      <td>14</td>\n",
       "      <td>0.298679</td>\n",
       "      <td>education</td>\n",
       "      <td>NaN</td>\n",
       "      <td>Some College</td>\n",
       "      <td>NaN</td>\n",
       "    </tr>\n",
       "    <tr>\n",
       "      <td>15</td>\n",
       "      <td>0.327006</td>\n",
       "      <td>education</td>\n",
       "      <td>NaN</td>\n",
       "      <td>College</td>\n",
       "      <td>NaN</td>\n",
       "    </tr>\n",
       "    <tr>\n",
       "      <td>16</td>\n",
       "      <td>0.150572</td>\n",
       "      <td>party</td>\n",
       "      <td>gender</td>\n",
       "      <td>Democrat</td>\n",
       "      <td>Male</td>\n",
       "    </tr>\n",
       "    <tr>\n",
       "      <td>17</td>\n",
       "      <td>0.237355</td>\n",
       "      <td>party</td>\n",
       "      <td>gender</td>\n",
       "      <td>Democrat</td>\n",
       "      <td>Female</td>\n",
       "    </tr>\n",
       "    <tr>\n",
       "      <td>18</td>\n",
       "      <td>0.192204</td>\n",
       "      <td>party</td>\n",
       "      <td>gender</td>\n",
       "      <td>Republican</td>\n",
       "      <td>Male</td>\n",
       "    </tr>\n",
       "    <tr>\n",
       "      <td>19</td>\n",
       "      <td>0.206584</td>\n",
       "      <td>party</td>\n",
       "      <td>gender</td>\n",
       "      <td>Republican</td>\n",
       "      <td>Female</td>\n",
       "    </tr>\n",
       "  </tbody>\n",
       "</table>\n",
       "</div>"
      ],
      "text/plain": [
       "    Electoral_Proportion Demographic_Type_1 Demographic_Type_2 Demographic_1  \\\n",
       "0               0.387927              party                NaN      Democrat   \n",
       "1               0.398788              party                NaN    Republican   \n",
       "2               0.213285              party                NaN   Independent   \n",
       "3               0.445928             gender                NaN          Male   \n",
       "4               0.554072             gender                NaN        Female   \n",
       "5               0.109728                age                NaN         18-29   \n",
       "6               0.182219                age                NaN         30-44   \n",
       "7               0.378175                age                NaN         45-64   \n",
       "8               0.329879                age                NaN           65+   \n",
       "9               0.697968               race                NaN         White   \n",
       "10              0.135672               race                NaN         Black   \n",
       "11              0.129719               race                NaN      Hispanic   \n",
       "12              0.036641               race                NaN         Other   \n",
       "13              0.374316          education                NaN   High School   \n",
       "14              0.298679          education                NaN  Some College   \n",
       "15              0.327006          education                NaN       College   \n",
       "16              0.150572              party             gender      Democrat   \n",
       "17              0.237355              party             gender      Democrat   \n",
       "18              0.192204              party             gender    Republican   \n",
       "19              0.206584              party             gender    Republican   \n",
       "\n",
       "   Demographic_2  \n",
       "0            NaN  \n",
       "1            NaN  \n",
       "2            NaN  \n",
       "3            NaN  \n",
       "4            NaN  \n",
       "5            NaN  \n",
       "6            NaN  \n",
       "7            NaN  \n",
       "8            NaN  \n",
       "9            NaN  \n",
       "10           NaN  \n",
       "11           NaN  \n",
       "12           NaN  \n",
       "13           NaN  \n",
       "14           NaN  \n",
       "15           NaN  \n",
       "16          Male  \n",
       "17        Female  \n",
       "18          Male  \n",
       "19        Female  "
      ]
     },
     "execution_count": 3,
     "metadata": {},
     "output_type": "execute_result"
    }
   ],
   "source": [
    "dfdemographic = pd.read_csv('florida_proportions_hw1.csv') # proportions of population\n",
    "dfdemographic.head(20)"
   ]
  },
  {
   "cell_type": "markdown",
   "metadata": {},
   "source": [
    "dfdemographic contains estimates of likely voters in Florida in 2016. When Demographic_Type_2 is NaN, the row refers to just the marginal population percentage of the group in Demographic_1 of type Demographic_Type_1. When it is not NaN, the row has the joint distribution of the corresponding demographic groups."
   ]
  },
  {
   "cell_type": "markdown",
   "metadata": {},
   "source": [
    "## Part A: Raw visualization"
   ]
  },
  {
   "cell_type": "markdown",
   "metadata": {},
   "source": [
    "<font color='blue'> Here, we'll visualize whether the respondents in the poll match the likely voter estimates. Create a scatter-plot where each point represents one Demographic group (for example, party-Independent), where the X axis is the Electoral_Proportion in dfdemographic, and the Y axis is the proportion in dfpoll. "
   ]
  },
  {
   "cell_type": "code",
   "execution_count": 4,
   "metadata": {},
   "outputs": [
    {
     "data": {
      "text/html": [
       "<div>\n",
       "<style scoped>\n",
       "    .dataframe tbody tr th:only-of-type {\n",
       "        vertical-align: middle;\n",
       "    }\n",
       "\n",
       "    .dataframe tbody tr th {\n",
       "        vertical-align: top;\n",
       "    }\n",
       "\n",
       "    .dataframe thead th {\n",
       "        text-align: right;\n",
       "    }\n",
       "</style>\n",
       "<table border=\"1\" class=\"dataframe\">\n",
       "  <thead>\n",
       "    <tr style=\"text-align: right;\">\n",
       "      <th></th>\n",
       "      <th>Electoral_Proportion</th>\n",
       "      <th>Demographic_Type_1</th>\n",
       "      <th>Demographic_Type_2</th>\n",
       "      <th>Demographic_1</th>\n",
       "      <th>Demographic_2</th>\n",
       "    </tr>\n",
       "  </thead>\n",
       "  <tbody>\n",
       "    <tr>\n",
       "      <td>0</td>\n",
       "      <td>0.387927</td>\n",
       "      <td>party</td>\n",
       "      <td>NaN</td>\n",
       "      <td>Democrat</td>\n",
       "      <td>NaN</td>\n",
       "    </tr>\n",
       "    <tr>\n",
       "      <td>1</td>\n",
       "      <td>0.398788</td>\n",
       "      <td>party</td>\n",
       "      <td>NaN</td>\n",
       "      <td>Republican</td>\n",
       "      <td>NaN</td>\n",
       "    </tr>\n",
       "    <tr>\n",
       "      <td>2</td>\n",
       "      <td>0.213285</td>\n",
       "      <td>party</td>\n",
       "      <td>NaN</td>\n",
       "      <td>Independent</td>\n",
       "      <td>NaN</td>\n",
       "    </tr>\n",
       "    <tr>\n",
       "      <td>3</td>\n",
       "      <td>0.445928</td>\n",
       "      <td>gender</td>\n",
       "      <td>NaN</td>\n",
       "      <td>Male</td>\n",
       "      <td>NaN</td>\n",
       "    </tr>\n",
       "    <tr>\n",
       "      <td>4</td>\n",
       "      <td>0.554072</td>\n",
       "      <td>gender</td>\n",
       "      <td>NaN</td>\n",
       "      <td>Female</td>\n",
       "      <td>NaN</td>\n",
       "    </tr>\n",
       "    <tr>\n",
       "      <td>5</td>\n",
       "      <td>0.109728</td>\n",
       "      <td>age</td>\n",
       "      <td>NaN</td>\n",
       "      <td>18-29</td>\n",
       "      <td>NaN</td>\n",
       "    </tr>\n",
       "    <tr>\n",
       "      <td>6</td>\n",
       "      <td>0.182219</td>\n",
       "      <td>age</td>\n",
       "      <td>NaN</td>\n",
       "      <td>30-44</td>\n",
       "      <td>NaN</td>\n",
       "    </tr>\n",
       "    <tr>\n",
       "      <td>7</td>\n",
       "      <td>0.378175</td>\n",
       "      <td>age</td>\n",
       "      <td>NaN</td>\n",
       "      <td>45-64</td>\n",
       "      <td>NaN</td>\n",
       "    </tr>\n",
       "    <tr>\n",
       "      <td>8</td>\n",
       "      <td>0.329879</td>\n",
       "      <td>age</td>\n",
       "      <td>NaN</td>\n",
       "      <td>65+</td>\n",
       "      <td>NaN</td>\n",
       "    </tr>\n",
       "    <tr>\n",
       "      <td>9</td>\n",
       "      <td>0.697968</td>\n",
       "      <td>race</td>\n",
       "      <td>NaN</td>\n",
       "      <td>White</td>\n",
       "      <td>NaN</td>\n",
       "    </tr>\n",
       "    <tr>\n",
       "      <td>10</td>\n",
       "      <td>0.135672</td>\n",
       "      <td>race</td>\n",
       "      <td>NaN</td>\n",
       "      <td>Black</td>\n",
       "      <td>NaN</td>\n",
       "    </tr>\n",
       "    <tr>\n",
       "      <td>11</td>\n",
       "      <td>0.129719</td>\n",
       "      <td>race</td>\n",
       "      <td>NaN</td>\n",
       "      <td>Hispanic</td>\n",
       "      <td>NaN</td>\n",
       "    </tr>\n",
       "    <tr>\n",
       "      <td>12</td>\n",
       "      <td>0.036641</td>\n",
       "      <td>race</td>\n",
       "      <td>NaN</td>\n",
       "      <td>Other</td>\n",
       "      <td>NaN</td>\n",
       "    </tr>\n",
       "    <tr>\n",
       "      <td>13</td>\n",
       "      <td>0.374316</td>\n",
       "      <td>education</td>\n",
       "      <td>NaN</td>\n",
       "      <td>High School</td>\n",
       "      <td>NaN</td>\n",
       "    </tr>\n",
       "    <tr>\n",
       "      <td>14</td>\n",
       "      <td>0.298679</td>\n",
       "      <td>education</td>\n",
       "      <td>NaN</td>\n",
       "      <td>Some College</td>\n",
       "      <td>NaN</td>\n",
       "    </tr>\n",
       "    <tr>\n",
       "      <td>15</td>\n",
       "      <td>0.327006</td>\n",
       "      <td>education</td>\n",
       "      <td>NaN</td>\n",
       "      <td>College</td>\n",
       "      <td>NaN</td>\n",
       "    </tr>\n",
       "  </tbody>\n",
       "</table>\n",
       "</div>"
      ],
      "text/plain": [
       "    Electoral_Proportion Demographic_Type_1 Demographic_Type_2 Demographic_1  \\\n",
       "0               0.387927              party                NaN      Democrat   \n",
       "1               0.398788              party                NaN    Republican   \n",
       "2               0.213285              party                NaN   Independent   \n",
       "3               0.445928             gender                NaN          Male   \n",
       "4               0.554072             gender                NaN        Female   \n",
       "5               0.109728                age                NaN         18-29   \n",
       "6               0.182219                age                NaN         30-44   \n",
       "7               0.378175                age                NaN         45-64   \n",
       "8               0.329879                age                NaN           65+   \n",
       "9               0.697968               race                NaN         White   \n",
       "10              0.135672               race                NaN         Black   \n",
       "11              0.129719               race                NaN      Hispanic   \n",
       "12              0.036641               race                NaN         Other   \n",
       "13              0.374316          education                NaN   High School   \n",
       "14              0.298679          education                NaN  Some College   \n",
       "15              0.327006          education                NaN       College   \n",
       "\n",
       "   Demographic_2  \n",
       "0            NaN  \n",
       "1            NaN  \n",
       "2            NaN  \n",
       "3            NaN  \n",
       "4            NaN  \n",
       "5            NaN  \n",
       "6            NaN  \n",
       "7            NaN  \n",
       "8            NaN  \n",
       "9            NaN  \n",
       "10           NaN  \n",
       "11           NaN  \n",
       "12           NaN  \n",
       "13           NaN  \n",
       "14           NaN  \n",
       "15           NaN  "
      ]
     },
     "execution_count": 4,
     "metadata": {},
     "output_type": "execute_result"
    }
   ],
   "source": [
    "#find the electorial proportions for only the individual demographics in dfdemographics (not joint demographics)\n",
    "demographic_groups = dfdemographic[dfdemographic['Demographic_Type_2'].isnull()].copy(deep=True)\n",
    "demographic_groups"
   ]
  },
  {
   "cell_type": "code",
   "execution_count": 5,
   "metadata": {},
   "outputs": [],
   "source": [
    "#Calculate the proportion of each demographic in dfpoll to match demographic type in dfdemographics.isnull\n",
    "y = []\n",
    "#save lables for plots\n",
    "groups = []\n",
    "for row in range(demographic_groups.shape[0]):\n",
    "    #find total count of demographic type, find total count of people, take the proportion\n",
    "    proportion = (dfpoll[dfpoll[demographic_groups['Demographic_Type_1'][row]] == demographic_groups['Demographic_1'][row]].shape[0])/dfpoll.shape[0]\n",
    "    groups.append(demographic_groups['Demographic_Type_1'][row]+': \\n'+demographic_groups['Demographic_1'][row])\n",
    "    y.append(proportion)"
   ]
  },
  {
   "cell_type": "code",
   "execution_count": 173,
   "metadata": {},
   "outputs": [
    {
     "data": {
      "image/png": "[encoded data removed]",
      "text/plain": [
       "<Figure size 864x504 with 1 Axes>"
      ]
     },
     "metadata": {
      "needs_background": "light"
     },
     "output_type": "display_data"
    }
   ],
   "source": [
    "import matplotlib.pyplot as plt\n",
    "\n",
    "x = demographic_groups['Electoral_Proportion']\n",
    "\n",
    "plt.figure(figsize=(12,7))\n",
    "plt.scatter(x, y)\n",
    "plt.title('Raw Visualization')\n",
    "plt.xlabel('Electoral Proportion in dfdemographics estimates in FL')\n",
    "plt.ylabel('Electoral Proportion of actual voter turnout')\n",
    "plt.plot([0, 0.1, 0.2, 0.3, 0.4, 0.5, 0.6, 0.7], [0, 0.1, 0.2, 0.3, 0.4, 0.5, 0.6, 0.7], c='grey') #plot the 'best case scenario' line, if the estimates weren't wrong\n",
    "for i, label in enumerate(groups): #plot labels and adjust locations to make sure they're readable\n",
    "    if x[i] == 0.12971895058981098 or x[i] == 0.182218853090832:\n",
    "        plt.text(x[i]+.01, y[i],label)\n",
    "    elif x[i] == 0.39878760019453896:\n",
    "        plt.text(x[i]+.006, y[i],label)\n",
    "    else:\n",
    "        plt.text(x[i]-.025, y[i]+.02,label)\n",
    "        \n",
    "plt.show()"
   ]
  },
  {
   "cell_type": "markdown",
   "metadata": {},
   "source": [
    "<font color='blue'>Which group is most over-represented? Most under-represented?</font>"
   ]
  },
  {
   "cell_type": "code",
   "execution_count": 7,
   "metadata": {},
   "outputs": [
    {
     "name": "stdout",
     "output_type": "stream",
     "text": [
      "Most-over represented group: party: \n",
      "Independent\n"
     ]
    }
   ],
   "source": [
    "diff = y-x\n",
    "for i, j in enumerate(diff):\n",
    "    if j == max(diff):\n",
    "        for x in range(len(groups)):\n",
    "            if i == x:\n",
    "                print('Most-over represented group:', groups[x])"
   ]
  },
  {
   "cell_type": "code",
   "execution_count": 8,
   "metadata": {},
   "outputs": [
    {
     "name": "stdout",
     "output_type": "stream",
     "text": [
      "Most under represented group: education: \n",
      "High School\n"
     ]
    }
   ],
   "source": [
    "for i, j in enumerate(diff):\n",
    "    if j == min(diff):\n",
    "        for x in range(len(groups)):\n",
    "            if i == x:\n",
    "                print('Most under represented group:', groups[x])"
   ]
  },
  {
   "cell_type": "markdown",
   "metadata": {},
   "source": [
    "**Over-represented in FL estimate**: everyone *above* line: Males, college-educated and some-college educated voters, Independent voters, 18-29 aged votes, (slightly) 30-44 aged voters, Hispanic voters, and other race voters\n",
    "\n",
    "**under-represented in FL estimate**: everyone *below* line: Black voters, aged 65+ voters, aged 45-64 voters, Republican voters, Democratic voters, high school educated voters, female voters, and white voters"
   ]
  },
  {
   "cell_type": "markdown",
   "metadata": {},
   "source": [
    "## Part B: Weighting"
   ]
  },
  {
   "cell_type": "markdown",
   "metadata": {},
   "source": [
    "### 1) Raw average"
   ]
  },
  {
   "cell_type": "markdown",
   "metadata": {},
   "source": [
    "<font color='blue'> For now, we'll ignore people who answered anything but \"Hillary Clinton\" or \"Donald Trump.\" Below, report the \"raw polling average,\" the percentage of people \"Hillary Clinton\" divided by the number who answered either Hillary or Trump."
   ]
  },
  {
   "cell_type": "code",
   "execution_count": 9,
   "metadata": {},
   "outputs": [
    {
     "name": "stdout",
     "output_type": "stream",
     "text": [
      "Raw polling average (Hillary Clinton):    54.58333 %\n"
     ]
    }
   ],
   "source": [
    "hillary = dfpoll[dfpoll['candidate'] == 'Hillary Clinton'].shape[0]\n",
    "hillary_trump = dfpoll[(dfpoll['candidate'] == 'Hillary Clinton') | (dfpoll['candidate'] == 'Donald Trump')].shape[0]\n",
    "raw_poll_avg = 100 * (hillary/hillary_trump)\n",
    "print('Raw polling average (Hillary Clinton): ', '{:10.5f}'.format(raw_poll_avg), '%')"
   ]
  },
  {
   "cell_type": "markdown",
   "metadata": {},
   "source": [
    "### 2) Single dimensional marginal weighting (on just 1 demographic type)"
   ]
  },
  {
   "cell_type": "markdown",
   "metadata": {},
   "source": [
    "<font color='blue'> For each demographic type separately -- age, gender, party, race, and education -- weight the poll by just that demographic type, in accordance to the population proportions given. Report the resulting poll results, and briefly (at most 3 sentences) describe what you observe.\n",
    "\n",
    "You'll notice that some of the groups in the polling data (\"refused\") do not show up in the population percentages. For now, we'll ignore those respondents."
   ]
  },
  {
   "cell_type": "code",
   "execution_count": 10,
   "metadata": {},
   "outputs": [],
   "source": [
    "#add new columns to capture mean votes for each demographic, and calculate final voting avgs\n",
    "demographic_groups['Hillary %'] = 0\n",
    "demographic_groups['Final'] = 0"
   ]
  },
  {
   "cell_type": "code",
   "execution_count": 11,
   "metadata": {},
   "outputs": [
    {
     "data": {
      "text/html": [
       "<div>\n",
       "<style scoped>\n",
       "    .dataframe tbody tr th:only-of-type {\n",
       "        vertical-align: middle;\n",
       "    }\n",
       "\n",
       "    .dataframe tbody tr th {\n",
       "        vertical-align: top;\n",
       "    }\n",
       "\n",
       "    .dataframe thead th {\n",
       "        text-align: right;\n",
       "    }\n",
       "</style>\n",
       "<table border=\"1\" class=\"dataframe\">\n",
       "  <thead>\n",
       "    <tr style=\"text-align: right;\">\n",
       "      <th></th>\n",
       "      <th>Electoral_Proportion</th>\n",
       "      <th>Demographic_Type_1</th>\n",
       "      <th>Demographic_Type_2</th>\n",
       "      <th>Demographic_1</th>\n",
       "      <th>Demographic_2</th>\n",
       "      <th>Hillary %</th>\n",
       "      <th>Final</th>\n",
       "    </tr>\n",
       "  </thead>\n",
       "  <tbody>\n",
       "    <tr>\n",
       "      <td>0</td>\n",
       "      <td>0.387927</td>\n",
       "      <td>party</td>\n",
       "      <td>NaN</td>\n",
       "      <td>Democrat</td>\n",
       "      <td>NaN</td>\n",
       "      <td>0</td>\n",
       "      <td>0</td>\n",
       "    </tr>\n",
       "    <tr>\n",
       "      <td>1</td>\n",
       "      <td>0.398788</td>\n",
       "      <td>party</td>\n",
       "      <td>NaN</td>\n",
       "      <td>Republican</td>\n",
       "      <td>NaN</td>\n",
       "      <td>0</td>\n",
       "      <td>0</td>\n",
       "    </tr>\n",
       "    <tr>\n",
       "      <td>2</td>\n",
       "      <td>0.213285</td>\n",
       "      <td>party</td>\n",
       "      <td>NaN</td>\n",
       "      <td>Independent</td>\n",
       "      <td>NaN</td>\n",
       "      <td>0</td>\n",
       "      <td>0</td>\n",
       "    </tr>\n",
       "    <tr>\n",
       "      <td>3</td>\n",
       "      <td>0.445928</td>\n",
       "      <td>gender</td>\n",
       "      <td>NaN</td>\n",
       "      <td>Male</td>\n",
       "      <td>NaN</td>\n",
       "      <td>0</td>\n",
       "      <td>0</td>\n",
       "    </tr>\n",
       "    <tr>\n",
       "      <td>4</td>\n",
       "      <td>0.554072</td>\n",
       "      <td>gender</td>\n",
       "      <td>NaN</td>\n",
       "      <td>Female</td>\n",
       "      <td>NaN</td>\n",
       "      <td>0</td>\n",
       "      <td>0</td>\n",
       "    </tr>\n",
       "    <tr>\n",
       "      <td>5</td>\n",
       "      <td>0.109728</td>\n",
       "      <td>age</td>\n",
       "      <td>NaN</td>\n",
       "      <td>18-29</td>\n",
       "      <td>NaN</td>\n",
       "      <td>0</td>\n",
       "      <td>0</td>\n",
       "    </tr>\n",
       "    <tr>\n",
       "      <td>6</td>\n",
       "      <td>0.182219</td>\n",
       "      <td>age</td>\n",
       "      <td>NaN</td>\n",
       "      <td>30-44</td>\n",
       "      <td>NaN</td>\n",
       "      <td>0</td>\n",
       "      <td>0</td>\n",
       "    </tr>\n",
       "    <tr>\n",
       "      <td>7</td>\n",
       "      <td>0.378175</td>\n",
       "      <td>age</td>\n",
       "      <td>NaN</td>\n",
       "      <td>45-64</td>\n",
       "      <td>NaN</td>\n",
       "      <td>0</td>\n",
       "      <td>0</td>\n",
       "    </tr>\n",
       "    <tr>\n",
       "      <td>8</td>\n",
       "      <td>0.329879</td>\n",
       "      <td>age</td>\n",
       "      <td>NaN</td>\n",
       "      <td>65+</td>\n",
       "      <td>NaN</td>\n",
       "      <td>0</td>\n",
       "      <td>0</td>\n",
       "    </tr>\n",
       "    <tr>\n",
       "      <td>9</td>\n",
       "      <td>0.697968</td>\n",
       "      <td>race</td>\n",
       "      <td>NaN</td>\n",
       "      <td>White</td>\n",
       "      <td>NaN</td>\n",
       "      <td>0</td>\n",
       "      <td>0</td>\n",
       "    </tr>\n",
       "    <tr>\n",
       "      <td>10</td>\n",
       "      <td>0.135672</td>\n",
       "      <td>race</td>\n",
       "      <td>NaN</td>\n",
       "      <td>Black</td>\n",
       "      <td>NaN</td>\n",
       "      <td>0</td>\n",
       "      <td>0</td>\n",
       "    </tr>\n",
       "    <tr>\n",
       "      <td>11</td>\n",
       "      <td>0.129719</td>\n",
       "      <td>race</td>\n",
       "      <td>NaN</td>\n",
       "      <td>Hispanic</td>\n",
       "      <td>NaN</td>\n",
       "      <td>0</td>\n",
       "      <td>0</td>\n",
       "    </tr>\n",
       "    <tr>\n",
       "      <td>12</td>\n",
       "      <td>0.036641</td>\n",
       "      <td>race</td>\n",
       "      <td>NaN</td>\n",
       "      <td>Other</td>\n",
       "      <td>NaN</td>\n",
       "      <td>0</td>\n",
       "      <td>0</td>\n",
       "    </tr>\n",
       "    <tr>\n",
       "      <td>13</td>\n",
       "      <td>0.374316</td>\n",
       "      <td>education</td>\n",
       "      <td>NaN</td>\n",
       "      <td>High School</td>\n",
       "      <td>NaN</td>\n",
       "      <td>0</td>\n",
       "      <td>0</td>\n",
       "    </tr>\n",
       "    <tr>\n",
       "      <td>14</td>\n",
       "      <td>0.298679</td>\n",
       "      <td>education</td>\n",
       "      <td>NaN</td>\n",
       "      <td>Some College</td>\n",
       "      <td>NaN</td>\n",
       "      <td>0</td>\n",
       "      <td>0</td>\n",
       "    </tr>\n",
       "    <tr>\n",
       "      <td>15</td>\n",
       "      <td>0.327006</td>\n",
       "      <td>education</td>\n",
       "      <td>NaN</td>\n",
       "      <td>College</td>\n",
       "      <td>NaN</td>\n",
       "      <td>0</td>\n",
       "      <td>0</td>\n",
       "    </tr>\n",
       "  </tbody>\n",
       "</table>\n",
       "</div>"
      ],
      "text/plain": [
       "    Electoral_Proportion Demographic_Type_1 Demographic_Type_2 Demographic_1  \\\n",
       "0               0.387927              party                NaN      Democrat   \n",
       "1               0.398788              party                NaN    Republican   \n",
       "2               0.213285              party                NaN   Independent   \n",
       "3               0.445928             gender                NaN          Male   \n",
       "4               0.554072             gender                NaN        Female   \n",
       "5               0.109728                age                NaN         18-29   \n",
       "6               0.182219                age                NaN         30-44   \n",
       "7               0.378175                age                NaN         45-64   \n",
       "8               0.329879                age                NaN           65+   \n",
       "9               0.697968               race                NaN         White   \n",
       "10              0.135672               race                NaN         Black   \n",
       "11              0.129719               race                NaN      Hispanic   \n",
       "12              0.036641               race                NaN         Other   \n",
       "13              0.374316          education                NaN   High School   \n",
       "14              0.298679          education                NaN  Some College   \n",
       "15              0.327006          education                NaN       College   \n",
       "\n",
       "   Demographic_2  Hillary %  Final  \n",
       "0            NaN          0      0  \n",
       "1            NaN          0      0  \n",
       "2            NaN          0      0  \n",
       "3            NaN          0      0  \n",
       "4            NaN          0      0  \n",
       "5            NaN          0      0  \n",
       "6            NaN          0      0  \n",
       "7            NaN          0      0  \n",
       "8            NaN          0      0  \n",
       "9            NaN          0      0  \n",
       "10           NaN          0      0  \n",
       "11           NaN          0      0  \n",
       "12           NaN          0      0  \n",
       "13           NaN          0      0  \n",
       "14           NaN          0      0  \n",
       "15           NaN          0      0  "
      ]
     },
     "execution_count": 11,
     "metadata": {},
     "output_type": "execute_result"
    }
   ],
   "source": [
    "demographic_groups"
   ]
  },
  {
   "cell_type": "code",
   "execution_count": 12,
   "metadata": {},
   "outputs": [],
   "source": [
    "#exclude all votes EXCEPT for hillary and trump; exclude all REFUSED answers in each demographic\n",
    "dfpoll_test = dfpoll[((dfpoll['candidate']=='Hillary Clinton') | (dfpoll['candidate']=='Donald Trump')) & ((dfpoll['race'] != 'Refused') & (dfpoll['education'] != 'Refused') & (dfpoll['party'] != 'Refused'))].copy(deep=True)"
   ]
  },
  {
   "cell_type": "code",
   "execution_count": 13,
   "metadata": {},
   "outputs": [],
   "source": [
    "def single_demtype(demtype):\n",
    "    dems = {}\n",
    "    #for each demographic type per demographic category\n",
    "    for idx, dem in enumerate(dfpoll_test.groupby([demtype])['candidate'].value_counts(normalize=True).index.to_list()):\n",
    "        #if they voted for hillary clinton\n",
    "        if dem[1] == 'Hillary Clinton':\n",
    "            #add the voting percent for hillary for this group\n",
    "            dems[dem[0]] = dfpoll_test.groupby([demtype])['candidate'].value_counts(normalize=True)[idx]\n",
    "    return dems"
   ]
  },
  {
   "cell_type": "code",
   "execution_count": 14,
   "metadata": {},
   "outputs": [],
   "source": [
    "def map_singledems():\n",
    "    singledems = {}\n",
    "    #find the percent of the vote that was for Hillary for each demographic type witin each demographic category\n",
    "    for dem in ['party', 'gender', 'age', 'education', 'race']:\n",
    "        d = single_demtype(dem)\n",
    "        for i, j in d.items():\n",
    "            singledems[i] = j\n",
    "    return singledems"
   ]
  },
  {
   "cell_type": "code",
   "execution_count": 15,
   "metadata": {},
   "outputs": [
    {
     "data": {
      "text/plain": [
       "{'Democrat': 0.9381818181818182,\n",
       " 'Independent': 0.5024154589371981,\n",
       " 'Republican': 0.07142857142857142,\n",
       " 'Female': 0.5921787709497207,\n",
       " 'Male': 0.4940119760479042,\n",
       " '18-29': 0.6642857142857143,\n",
       " '30-44': 0.5982905982905983,\n",
       " '45-64': 0.509009009009009,\n",
       " '65+': 0.47417840375586856,\n",
       " 'College': 0.5478547854785478,\n",
       " 'High School': 0.528169014084507,\n",
       " 'Some College': 0.5506072874493927,\n",
       " 'Black': 0.9375,\n",
       " 'Hispanic': 0.7714285714285715,\n",
       " 'Other': 0.6551724137931034,\n",
       " 'White': 0.39503386004514673}"
      ]
     },
     "execution_count": 15,
     "metadata": {},
     "output_type": "execute_result"
    }
   ],
   "source": [
    "singledems = map_singledems()\n",
    "singledems"
   ]
  },
  {
   "cell_type": "code",
   "execution_count": 16,
   "metadata": {},
   "outputs": [
    {
     "name": "stderr",
     "output_type": "stream",
     "text": [
      "/Users/kristenflaherty/opt/anaconda3/lib/python3.7/site-packages/pandas/core/indexing.py:205: SettingWithCopyWarning: \n",
      "A value is trying to be set on a copy of a slice from a DataFrame\n",
      "\n",
      "See the caveats in the documentation: http://pandas.pydata.org/pandas-docs/stable/user_guide/indexing.html#returning-a-view-versus-a-copy\n",
      "  self._setitem_with_indexer(indexer, value)\n"
     ]
    }
   ],
   "source": [
    "#for each row in demographic groups\n",
    "for row in range(demographic_groups.shape[0]):\n",
    "    #for each demographic and voting percent in the dictionary\n",
    "    for key, val in singledems.items():\n",
    "        #find the row where the demographic type resides\n",
    "        if demographic_groups['Demographic_1'].iloc[row] == key:\n",
    "            #update the percent of the vote for hillary at this row\n",
    "            demographic_groups['Hillary %'].loc[row] = val"
   ]
  },
  {
   "cell_type": "code",
   "execution_count": 17,
   "metadata": {},
   "outputs": [
    {
     "data": {
      "text/html": [
       "<div>\n",
       "<style scoped>\n",
       "    .dataframe tbody tr th:only-of-type {\n",
       "        vertical-align: middle;\n",
       "    }\n",
       "\n",
       "    .dataframe tbody tr th {\n",
       "        vertical-align: top;\n",
       "    }\n",
       "\n",
       "    .dataframe thead th {\n",
       "        text-align: right;\n",
       "    }\n",
       "</style>\n",
       "<table border=\"1\" class=\"dataframe\">\n",
       "  <thead>\n",
       "    <tr style=\"text-align: right;\">\n",
       "      <th></th>\n",
       "      <th>Electoral_Proportion</th>\n",
       "      <th>Demographic_Type_1</th>\n",
       "      <th>Demographic_Type_2</th>\n",
       "      <th>Demographic_1</th>\n",
       "      <th>Demographic_2</th>\n",
       "      <th>Hillary %</th>\n",
       "      <th>Final</th>\n",
       "    </tr>\n",
       "  </thead>\n",
       "  <tbody>\n",
       "    <tr>\n",
       "      <td>0</td>\n",
       "      <td>0.387927</td>\n",
       "      <td>party</td>\n",
       "      <td>NaN</td>\n",
       "      <td>Democrat</td>\n",
       "      <td>NaN</td>\n",
       "      <td>0.938182</td>\n",
       "      <td>0</td>\n",
       "    </tr>\n",
       "    <tr>\n",
       "      <td>1</td>\n",
       "      <td>0.398788</td>\n",
       "      <td>party</td>\n",
       "      <td>NaN</td>\n",
       "      <td>Republican</td>\n",
       "      <td>NaN</td>\n",
       "      <td>0.071429</td>\n",
       "      <td>0</td>\n",
       "    </tr>\n",
       "    <tr>\n",
       "      <td>2</td>\n",
       "      <td>0.213285</td>\n",
       "      <td>party</td>\n",
       "      <td>NaN</td>\n",
       "      <td>Independent</td>\n",
       "      <td>NaN</td>\n",
       "      <td>0.502415</td>\n",
       "      <td>0</td>\n",
       "    </tr>\n",
       "    <tr>\n",
       "      <td>3</td>\n",
       "      <td>0.445928</td>\n",
       "      <td>gender</td>\n",
       "      <td>NaN</td>\n",
       "      <td>Male</td>\n",
       "      <td>NaN</td>\n",
       "      <td>0.494012</td>\n",
       "      <td>0</td>\n",
       "    </tr>\n",
       "    <tr>\n",
       "      <td>4</td>\n",
       "      <td>0.554072</td>\n",
       "      <td>gender</td>\n",
       "      <td>NaN</td>\n",
       "      <td>Female</td>\n",
       "      <td>NaN</td>\n",
       "      <td>0.592179</td>\n",
       "      <td>0</td>\n",
       "    </tr>\n",
       "    <tr>\n",
       "      <td>5</td>\n",
       "      <td>0.109728</td>\n",
       "      <td>age</td>\n",
       "      <td>NaN</td>\n",
       "      <td>18-29</td>\n",
       "      <td>NaN</td>\n",
       "      <td>0.664286</td>\n",
       "      <td>0</td>\n",
       "    </tr>\n",
       "    <tr>\n",
       "      <td>6</td>\n",
       "      <td>0.182219</td>\n",
       "      <td>age</td>\n",
       "      <td>NaN</td>\n",
       "      <td>30-44</td>\n",
       "      <td>NaN</td>\n",
       "      <td>0.598291</td>\n",
       "      <td>0</td>\n",
       "    </tr>\n",
       "    <tr>\n",
       "      <td>7</td>\n",
       "      <td>0.378175</td>\n",
       "      <td>age</td>\n",
       "      <td>NaN</td>\n",
       "      <td>45-64</td>\n",
       "      <td>NaN</td>\n",
       "      <td>0.509009</td>\n",
       "      <td>0</td>\n",
       "    </tr>\n",
       "    <tr>\n",
       "      <td>8</td>\n",
       "      <td>0.329879</td>\n",
       "      <td>age</td>\n",
       "      <td>NaN</td>\n",
       "      <td>65+</td>\n",
       "      <td>NaN</td>\n",
       "      <td>0.474178</td>\n",
       "      <td>0</td>\n",
       "    </tr>\n",
       "    <tr>\n",
       "      <td>9</td>\n",
       "      <td>0.697968</td>\n",
       "      <td>race</td>\n",
       "      <td>NaN</td>\n",
       "      <td>White</td>\n",
       "      <td>NaN</td>\n",
       "      <td>0.395034</td>\n",
       "      <td>0</td>\n",
       "    </tr>\n",
       "    <tr>\n",
       "      <td>10</td>\n",
       "      <td>0.135672</td>\n",
       "      <td>race</td>\n",
       "      <td>NaN</td>\n",
       "      <td>Black</td>\n",
       "      <td>NaN</td>\n",
       "      <td>0.937500</td>\n",
       "      <td>0</td>\n",
       "    </tr>\n",
       "    <tr>\n",
       "      <td>11</td>\n",
       "      <td>0.129719</td>\n",
       "      <td>race</td>\n",
       "      <td>NaN</td>\n",
       "      <td>Hispanic</td>\n",
       "      <td>NaN</td>\n",
       "      <td>0.771429</td>\n",
       "      <td>0</td>\n",
       "    </tr>\n",
       "    <tr>\n",
       "      <td>12</td>\n",
       "      <td>0.036641</td>\n",
       "      <td>race</td>\n",
       "      <td>NaN</td>\n",
       "      <td>Other</td>\n",
       "      <td>NaN</td>\n",
       "      <td>0.655172</td>\n",
       "      <td>0</td>\n",
       "    </tr>\n",
       "    <tr>\n",
       "      <td>13</td>\n",
       "      <td>0.374316</td>\n",
       "      <td>education</td>\n",
       "      <td>NaN</td>\n",
       "      <td>High School</td>\n",
       "      <td>NaN</td>\n",
       "      <td>0.528169</td>\n",
       "      <td>0</td>\n",
       "    </tr>\n",
       "    <tr>\n",
       "      <td>14</td>\n",
       "      <td>0.298679</td>\n",
       "      <td>education</td>\n",
       "      <td>NaN</td>\n",
       "      <td>Some College</td>\n",
       "      <td>NaN</td>\n",
       "      <td>0.550607</td>\n",
       "      <td>0</td>\n",
       "    </tr>\n",
       "    <tr>\n",
       "      <td>15</td>\n",
       "      <td>0.327006</td>\n",
       "      <td>education</td>\n",
       "      <td>NaN</td>\n",
       "      <td>College</td>\n",
       "      <td>NaN</td>\n",
       "      <td>0.547855</td>\n",
       "      <td>0</td>\n",
       "    </tr>\n",
       "  </tbody>\n",
       "</table>\n",
       "</div>"
      ],
      "text/plain": [
       "    Electoral_Proportion Demographic_Type_1 Demographic_Type_2 Demographic_1  \\\n",
       "0               0.387927              party                NaN      Democrat   \n",
       "1               0.398788              party                NaN    Republican   \n",
       "2               0.213285              party                NaN   Independent   \n",
       "3               0.445928             gender                NaN          Male   \n",
       "4               0.554072             gender                NaN        Female   \n",
       "5               0.109728                age                NaN         18-29   \n",
       "6               0.182219                age                NaN         30-44   \n",
       "7               0.378175                age                NaN         45-64   \n",
       "8               0.329879                age                NaN           65+   \n",
       "9               0.697968               race                NaN         White   \n",
       "10              0.135672               race                NaN         Black   \n",
       "11              0.129719               race                NaN      Hispanic   \n",
       "12              0.036641               race                NaN         Other   \n",
       "13              0.374316          education                NaN   High School   \n",
       "14              0.298679          education                NaN  Some College   \n",
       "15              0.327006          education                NaN       College   \n",
       "\n",
       "   Demographic_2  Hillary %  Final  \n",
       "0            NaN   0.938182      0  \n",
       "1            NaN   0.071429      0  \n",
       "2            NaN   0.502415      0  \n",
       "3            NaN   0.494012      0  \n",
       "4            NaN   0.592179      0  \n",
       "5            NaN   0.664286      0  \n",
       "6            NaN   0.598291      0  \n",
       "7            NaN   0.509009      0  \n",
       "8            NaN   0.474178      0  \n",
       "9            NaN   0.395034      0  \n",
       "10           NaN   0.937500      0  \n",
       "11           NaN   0.771429      0  \n",
       "12           NaN   0.655172      0  \n",
       "13           NaN   0.528169      0  \n",
       "14           NaN   0.550607      0  \n",
       "15           NaN   0.547855      0  "
      ]
     },
     "execution_count": 17,
     "metadata": {},
     "output_type": "execute_result"
    }
   ],
   "source": [
    "demographic_groups"
   ]
  },
  {
   "cell_type": "code",
   "execution_count": 18,
   "metadata": {},
   "outputs": [],
   "source": [
    "#calculate the weighted average per demographic group and store it in the final column\n",
    "demographic_groups['Final'] = demographic_groups['Electoral_Proportion'] * demographic_groups['Hillary %']"
   ]
  },
  {
   "cell_type": "code",
   "execution_count": 19,
   "metadata": {},
   "outputs": [
    {
     "data": {
      "text/html": [
       "<div>\n",
       "<style scoped>\n",
       "    .dataframe tbody tr th:only-of-type {\n",
       "        vertical-align: middle;\n",
       "    }\n",
       "\n",
       "    .dataframe tbody tr th {\n",
       "        vertical-align: top;\n",
       "    }\n",
       "\n",
       "    .dataframe thead th {\n",
       "        text-align: right;\n",
       "    }\n",
       "</style>\n",
       "<table border=\"1\" class=\"dataframe\">\n",
       "  <thead>\n",
       "    <tr style=\"text-align: right;\">\n",
       "      <th></th>\n",
       "      <th>Electoral_Proportion</th>\n",
       "      <th>Demographic_Type_1</th>\n",
       "      <th>Demographic_Type_2</th>\n",
       "      <th>Demographic_1</th>\n",
       "      <th>Demographic_2</th>\n",
       "      <th>Hillary %</th>\n",
       "      <th>Final</th>\n",
       "    </tr>\n",
       "  </thead>\n",
       "  <tbody>\n",
       "    <tr>\n",
       "      <td>0</td>\n",
       "      <td>0.387927</td>\n",
       "      <td>party</td>\n",
       "      <td>NaN</td>\n",
       "      <td>Democrat</td>\n",
       "      <td>NaN</td>\n",
       "      <td>0.938182</td>\n",
       "      <td>0.363946</td>\n",
       "    </tr>\n",
       "    <tr>\n",
       "      <td>1</td>\n",
       "      <td>0.398788</td>\n",
       "      <td>party</td>\n",
       "      <td>NaN</td>\n",
       "      <td>Republican</td>\n",
       "      <td>NaN</td>\n",
       "      <td>0.071429</td>\n",
       "      <td>0.028485</td>\n",
       "    </tr>\n",
       "    <tr>\n",
       "      <td>2</td>\n",
       "      <td>0.213285</td>\n",
       "      <td>party</td>\n",
       "      <td>NaN</td>\n",
       "      <td>Independent</td>\n",
       "      <td>NaN</td>\n",
       "      <td>0.502415</td>\n",
       "      <td>0.107158</td>\n",
       "    </tr>\n",
       "    <tr>\n",
       "      <td>3</td>\n",
       "      <td>0.445928</td>\n",
       "      <td>gender</td>\n",
       "      <td>NaN</td>\n",
       "      <td>Male</td>\n",
       "      <td>NaN</td>\n",
       "      <td>0.494012</td>\n",
       "      <td>0.220294</td>\n",
       "    </tr>\n",
       "    <tr>\n",
       "      <td>4</td>\n",
       "      <td>0.554072</td>\n",
       "      <td>gender</td>\n",
       "      <td>NaN</td>\n",
       "      <td>Female</td>\n",
       "      <td>NaN</td>\n",
       "      <td>0.592179</td>\n",
       "      <td>0.328110</td>\n",
       "    </tr>\n",
       "    <tr>\n",
       "      <td>5</td>\n",
       "      <td>0.109728</td>\n",
       "      <td>age</td>\n",
       "      <td>NaN</td>\n",
       "      <td>18-29</td>\n",
       "      <td>NaN</td>\n",
       "      <td>0.664286</td>\n",
       "      <td>0.072890</td>\n",
       "    </tr>\n",
       "    <tr>\n",
       "      <td>6</td>\n",
       "      <td>0.182219</td>\n",
       "      <td>age</td>\n",
       "      <td>NaN</td>\n",
       "      <td>30-44</td>\n",
       "      <td>NaN</td>\n",
       "      <td>0.598291</td>\n",
       "      <td>0.109020</td>\n",
       "    </tr>\n",
       "    <tr>\n",
       "      <td>7</td>\n",
       "      <td>0.378175</td>\n",
       "      <td>age</td>\n",
       "      <td>NaN</td>\n",
       "      <td>45-64</td>\n",
       "      <td>NaN</td>\n",
       "      <td>0.509009</td>\n",
       "      <td>0.192494</td>\n",
       "    </tr>\n",
       "    <tr>\n",
       "      <td>8</td>\n",
       "      <td>0.329879</td>\n",
       "      <td>age</td>\n",
       "      <td>NaN</td>\n",
       "      <td>65+</td>\n",
       "      <td>NaN</td>\n",
       "      <td>0.474178</td>\n",
       "      <td>0.156421</td>\n",
       "    </tr>\n",
       "    <tr>\n",
       "      <td>9</td>\n",
       "      <td>0.697968</td>\n",
       "      <td>race</td>\n",
       "      <td>NaN</td>\n",
       "      <td>White</td>\n",
       "      <td>NaN</td>\n",
       "      <td>0.395034</td>\n",
       "      <td>0.275721</td>\n",
       "    </tr>\n",
       "    <tr>\n",
       "      <td>10</td>\n",
       "      <td>0.135672</td>\n",
       "      <td>race</td>\n",
       "      <td>NaN</td>\n",
       "      <td>Black</td>\n",
       "      <td>NaN</td>\n",
       "      <td>0.937500</td>\n",
       "      <td>0.127192</td>\n",
       "    </tr>\n",
       "    <tr>\n",
       "      <td>11</td>\n",
       "      <td>0.129719</td>\n",
       "      <td>race</td>\n",
       "      <td>NaN</td>\n",
       "      <td>Hispanic</td>\n",
       "      <td>NaN</td>\n",
       "      <td>0.771429</td>\n",
       "      <td>0.100069</td>\n",
       "    </tr>\n",
       "    <tr>\n",
       "      <td>12</td>\n",
       "      <td>0.036641</td>\n",
       "      <td>race</td>\n",
       "      <td>NaN</td>\n",
       "      <td>Other</td>\n",
       "      <td>NaN</td>\n",
       "      <td>0.655172</td>\n",
       "      <td>0.024006</td>\n",
       "    </tr>\n",
       "    <tr>\n",
       "      <td>13</td>\n",
       "      <td>0.374316</td>\n",
       "      <td>education</td>\n",
       "      <td>NaN</td>\n",
       "      <td>High School</td>\n",
       "      <td>NaN</td>\n",
       "      <td>0.528169</td>\n",
       "      <td>0.197702</td>\n",
       "    </tr>\n",
       "    <tr>\n",
       "      <td>14</td>\n",
       "      <td>0.298679</td>\n",
       "      <td>education</td>\n",
       "      <td>NaN</td>\n",
       "      <td>Some College</td>\n",
       "      <td>NaN</td>\n",
       "      <td>0.550607</td>\n",
       "      <td>0.164455</td>\n",
       "    </tr>\n",
       "    <tr>\n",
       "      <td>15</td>\n",
       "      <td>0.327006</td>\n",
       "      <td>education</td>\n",
       "      <td>NaN</td>\n",
       "      <td>College</td>\n",
       "      <td>NaN</td>\n",
       "      <td>0.547855</td>\n",
       "      <td>0.179152</td>\n",
       "    </tr>\n",
       "  </tbody>\n",
       "</table>\n",
       "</div>"
      ],
      "text/plain": [
       "    Electoral_Proportion Demographic_Type_1 Demographic_Type_2 Demographic_1  \\\n",
       "0               0.387927              party                NaN      Democrat   \n",
       "1               0.398788              party                NaN    Republican   \n",
       "2               0.213285              party                NaN   Independent   \n",
       "3               0.445928             gender                NaN          Male   \n",
       "4               0.554072             gender                NaN        Female   \n",
       "5               0.109728                age                NaN         18-29   \n",
       "6               0.182219                age                NaN         30-44   \n",
       "7               0.378175                age                NaN         45-64   \n",
       "8               0.329879                age                NaN           65+   \n",
       "9               0.697968               race                NaN         White   \n",
       "10              0.135672               race                NaN         Black   \n",
       "11              0.129719               race                NaN      Hispanic   \n",
       "12              0.036641               race                NaN         Other   \n",
       "13              0.374316          education                NaN   High School   \n",
       "14              0.298679          education                NaN  Some College   \n",
       "15              0.327006          education                NaN       College   \n",
       "\n",
       "   Demographic_2  Hillary %     Final  \n",
       "0            NaN   0.938182  0.363946  \n",
       "1            NaN   0.071429  0.028485  \n",
       "2            NaN   0.502415  0.107158  \n",
       "3            NaN   0.494012  0.220294  \n",
       "4            NaN   0.592179  0.328110  \n",
       "5            NaN   0.664286  0.072890  \n",
       "6            NaN   0.598291  0.109020  \n",
       "7            NaN   0.509009  0.192494  \n",
       "8            NaN   0.474178  0.156421  \n",
       "9            NaN   0.395034  0.275721  \n",
       "10           NaN   0.937500  0.127192  \n",
       "11           NaN   0.771429  0.100069  \n",
       "12           NaN   0.655172  0.024006  \n",
       "13           NaN   0.528169  0.197702  \n",
       "14           NaN   0.550607  0.164455  \n",
       "15           NaN   0.547855  0.179152  "
      ]
     },
     "execution_count": 19,
     "metadata": {},
     "output_type": "execute_result"
    }
   ],
   "source": [
    "demographic_groups"
   ]
  },
  {
   "cell_type": "code",
   "execution_count": 20,
   "metadata": {},
   "outputs": [],
   "source": [
    "final_results = {}\n",
    "#for each demographic category\n",
    "for dem in ['party', 'gender', 'age', 'education', 'race']:\n",
    "    #find the sum of all the demographic types for that one demographic category, store it as a percent\n",
    "    final_results[dem] = round(100*(demographic_groups[demographic_groups['Demographic_Type_1'] == dem]['Final'].sum()), 3)"
   ]
  },
  {
   "cell_type": "code",
   "execution_count": 21,
   "metadata": {},
   "outputs": [
    {
     "data": {
      "text/html": [
       "<div>\n",
       "<style scoped>\n",
       "    .dataframe tbody tr th:only-of-type {\n",
       "        vertical-align: middle;\n",
       "    }\n",
       "\n",
       "    .dataframe tbody tr th {\n",
       "        vertical-align: top;\n",
       "    }\n",
       "\n",
       "    .dataframe thead th {\n",
       "        text-align: right;\n",
       "    }\n",
       "</style>\n",
       "<table border=\"1\" class=\"dataframe\">\n",
       "  <thead>\n",
       "    <tr style=\"text-align: right;\">\n",
       "      <th></th>\n",
       "      <th>index</th>\n",
       "      <th>Weighted Poll (% Hillary)</th>\n",
       "    </tr>\n",
       "  </thead>\n",
       "  <tbody>\n",
       "    <tr>\n",
       "      <td>0</td>\n",
       "      <td>party</td>\n",
       "      <td>49.959</td>\n",
       "    </tr>\n",
       "    <tr>\n",
       "      <td>1</td>\n",
       "      <td>gender</td>\n",
       "      <td>54.840</td>\n",
       "    </tr>\n",
       "    <tr>\n",
       "      <td>2</td>\n",
       "      <td>age</td>\n",
       "      <td>53.083</td>\n",
       "    </tr>\n",
       "    <tr>\n",
       "      <td>3</td>\n",
       "      <td>education</td>\n",
       "      <td>54.131</td>\n",
       "    </tr>\n",
       "    <tr>\n",
       "      <td>4</td>\n",
       "      <td>race</td>\n",
       "      <td>52.699</td>\n",
       "    </tr>\n",
       "  </tbody>\n",
       "</table>\n",
       "</div>"
      ],
      "text/plain": [
       "       index  Weighted Poll (% Hillary)\n",
       "0      party                     49.959\n",
       "1     gender                     54.840\n",
       "2        age                     53.083\n",
       "3  education                     54.131\n",
       "4       race                     52.699"
      ]
     },
     "execution_count": 21,
     "metadata": {},
     "output_type": "execute_result"
    }
   ],
   "source": [
    "#organize final averages\n",
    "final_df_single = pd.DataFrame.from_dict(final_results, orient='index', columns=['Weighted Poll (% Hillary)'])\n",
    "final_df_single = final_df_single.reset_index()\n",
    "final_df_single"
   ]
  },
  {
   "cell_type": "markdown",
   "metadata": {},
   "source": [
    "Observation:\n",
    "\n",
    "By weighting the polling average by each demographic, the resulting estimate still favors a Hillary Clinton win. Simply weighting the poll by each demographic type must not capture possible  relationships between other existing demographic types or between unmeasured confoundings that might be currently skewing the poll estimates towards Hillary Clinton. "
   ]
  },
  {
   "cell_type": "markdown",
   "metadata": {},
   "source": [
    "### 2-dimensional joint distribution weighting"
   ]
  },
  {
   "cell_type": "markdown",
   "metadata": {},
   "source": [
    "<font color='blue'>Now, for each pair of demographic types in dfdemographic, do the same -- weight the poll by that pair of demographic types, in accordance to the given joint distributions, and briefly (at most 3 sentences) describe what you observe"
   ]
  },
  {
   "cell_type": "code",
   "execution_count": 22,
   "metadata": {},
   "outputs": [],
   "source": [
    "#take subset of demographic_groups df where only the 2 dimensional proportions exist\n",
    "demographic_groups2 = dfdemographic[(dfdemographic['Demographic_2'].notnull())].copy(deep=True)"
   ]
  },
  {
   "cell_type": "code",
   "execution_count": 23,
   "metadata": {},
   "outputs": [
    {
     "data": {
      "text/html": [
       "<div>\n",
       "<style scoped>\n",
       "    .dataframe tbody tr th:only-of-type {\n",
       "        vertical-align: middle;\n",
       "    }\n",
       "\n",
       "    .dataframe tbody tr th {\n",
       "        vertical-align: top;\n",
       "    }\n",
       "\n",
       "    .dataframe thead th {\n",
       "        text-align: right;\n",
       "    }\n",
       "</style>\n",
       "<table border=\"1\" class=\"dataframe\">\n",
       "  <thead>\n",
       "    <tr style=\"text-align: right;\">\n",
       "      <th></th>\n",
       "      <th>Electoral_Proportion</th>\n",
       "      <th>Demographic_Type_1</th>\n",
       "      <th>Demographic_Type_2</th>\n",
       "      <th>Demographic_1</th>\n",
       "      <th>Demographic_2</th>\n",
       "    </tr>\n",
       "  </thead>\n",
       "  <tbody>\n",
       "    <tr>\n",
       "      <td>16</td>\n",
       "      <td>0.150572</td>\n",
       "      <td>party</td>\n",
       "      <td>gender</td>\n",
       "      <td>Democrat</td>\n",
       "      <td>Male</td>\n",
       "    </tr>\n",
       "    <tr>\n",
       "      <td>17</td>\n",
       "      <td>0.237355</td>\n",
       "      <td>party</td>\n",
       "      <td>gender</td>\n",
       "      <td>Democrat</td>\n",
       "      <td>Female</td>\n",
       "    </tr>\n",
       "    <tr>\n",
       "      <td>18</td>\n",
       "      <td>0.192204</td>\n",
       "      <td>party</td>\n",
       "      <td>gender</td>\n",
       "      <td>Republican</td>\n",
       "      <td>Male</td>\n",
       "    </tr>\n",
       "    <tr>\n",
       "      <td>19</td>\n",
       "      <td>0.206584</td>\n",
       "      <td>party</td>\n",
       "      <td>gender</td>\n",
       "      <td>Republican</td>\n",
       "      <td>Female</td>\n",
       "    </tr>\n",
       "    <tr>\n",
       "      <td>20</td>\n",
       "      <td>0.103152</td>\n",
       "      <td>party</td>\n",
       "      <td>gender</td>\n",
       "      <td>Independent</td>\n",
       "      <td>Male</td>\n",
       "    </tr>\n",
       "    <tr>\n",
       "      <td>...</td>\n",
       "      <td>...</td>\n",
       "      <td>...</td>\n",
       "      <td>...</td>\n",
       "      <td>...</td>\n",
       "      <td>...</td>\n",
       "    </tr>\n",
       "    <tr>\n",
       "      <td>112</td>\n",
       "      <td>0.034216</td>\n",
       "      <td>race</td>\n",
       "      <td>education</td>\n",
       "      <td>Hispanic</td>\n",
       "      <td>Some College</td>\n",
       "    </tr>\n",
       "    <tr>\n",
       "      <td>113</td>\n",
       "      <td>0.027588</td>\n",
       "      <td>race</td>\n",
       "      <td>education</td>\n",
       "      <td>Hispanic</td>\n",
       "      <td>College</td>\n",
       "    </tr>\n",
       "    <tr>\n",
       "      <td>114</td>\n",
       "      <td>0.010929</td>\n",
       "      <td>race</td>\n",
       "      <td>education</td>\n",
       "      <td>Other</td>\n",
       "      <td>High School</td>\n",
       "    </tr>\n",
       "    <tr>\n",
       "      <td>115</td>\n",
       "      <td>0.010570</td>\n",
       "      <td>race</td>\n",
       "      <td>education</td>\n",
       "      <td>Other</td>\n",
       "      <td>Some College</td>\n",
       "    </tr>\n",
       "    <tr>\n",
       "      <td>116</td>\n",
       "      <td>0.015142</td>\n",
       "      <td>race</td>\n",
       "      <td>education</td>\n",
       "      <td>Other</td>\n",
       "      <td>College</td>\n",
       "    </tr>\n",
       "  </tbody>\n",
       "</table>\n",
       "<p>101 rows × 5 columns</p>\n",
       "</div>"
      ],
      "text/plain": [
       "     Electoral_Proportion Demographic_Type_1 Demographic_Type_2 Demographic_1  \\\n",
       "16               0.150572              party             gender      Democrat   \n",
       "17               0.237355              party             gender      Democrat   \n",
       "18               0.192204              party             gender    Republican   \n",
       "19               0.206584              party             gender    Republican   \n",
       "20               0.103152              party             gender   Independent   \n",
       "..                    ...                ...                ...           ...   \n",
       "112              0.034216               race          education      Hispanic   \n",
       "113              0.027588               race          education      Hispanic   \n",
       "114              0.010929               race          education         Other   \n",
       "115              0.010570               race          education         Other   \n",
       "116              0.015142               race          education         Other   \n",
       "\n",
       "    Demographic_2  \n",
       "16           Male  \n",
       "17         Female  \n",
       "18           Male  \n",
       "19         Female  \n",
       "20           Male  \n",
       "..            ...  \n",
       "112  Some College  \n",
       "113       College  \n",
       "114   High School  \n",
       "115  Some College  \n",
       "116       College  \n",
       "\n",
       "[101 rows x 5 columns]"
      ]
     },
     "execution_count": 23,
     "metadata": {},
     "output_type": "execute_result"
    }
   ],
   "source": [
    "demographic_groups2"
   ]
  },
  {
   "cell_type": "code",
   "execution_count": 24,
   "metadata": {},
   "outputs": [],
   "source": [
    "#add new columns to store voting percent and final weighted averages\n",
    "demographic_groups2['Hillary %'] = 0\n",
    "demographic_groups2['Final'] = 0"
   ]
  },
  {
   "cell_type": "code",
   "execution_count": 25,
   "metadata": {},
   "outputs": [
    {
     "data": {
      "text/html": [
       "<div>\n",
       "<style scoped>\n",
       "    .dataframe tbody tr th:only-of-type {\n",
       "        vertical-align: middle;\n",
       "    }\n",
       "\n",
       "    .dataframe tbody tr th {\n",
       "        vertical-align: top;\n",
       "    }\n",
       "\n",
       "    .dataframe thead th {\n",
       "        text-align: right;\n",
       "    }\n",
       "</style>\n",
       "<table border=\"1\" class=\"dataframe\">\n",
       "  <thead>\n",
       "    <tr style=\"text-align: right;\">\n",
       "      <th></th>\n",
       "      <th>Electoral_Proportion</th>\n",
       "      <th>Demographic_Type_1</th>\n",
       "      <th>Demographic_Type_2</th>\n",
       "      <th>Demographic_1</th>\n",
       "      <th>Demographic_2</th>\n",
       "      <th>Hillary %</th>\n",
       "      <th>Final</th>\n",
       "    </tr>\n",
       "  </thead>\n",
       "  <tbody>\n",
       "    <tr>\n",
       "      <td>16</td>\n",
       "      <td>0.150572</td>\n",
       "      <td>party</td>\n",
       "      <td>gender</td>\n",
       "      <td>Democrat</td>\n",
       "      <td>Male</td>\n",
       "      <td>0</td>\n",
       "      <td>0</td>\n",
       "    </tr>\n",
       "    <tr>\n",
       "      <td>17</td>\n",
       "      <td>0.237355</td>\n",
       "      <td>party</td>\n",
       "      <td>gender</td>\n",
       "      <td>Democrat</td>\n",
       "      <td>Female</td>\n",
       "      <td>0</td>\n",
       "      <td>0</td>\n",
       "    </tr>\n",
       "    <tr>\n",
       "      <td>18</td>\n",
       "      <td>0.192204</td>\n",
       "      <td>party</td>\n",
       "      <td>gender</td>\n",
       "      <td>Republican</td>\n",
       "      <td>Male</td>\n",
       "      <td>0</td>\n",
       "      <td>0</td>\n",
       "    </tr>\n",
       "    <tr>\n",
       "      <td>19</td>\n",
       "      <td>0.206584</td>\n",
       "      <td>party</td>\n",
       "      <td>gender</td>\n",
       "      <td>Republican</td>\n",
       "      <td>Female</td>\n",
       "      <td>0</td>\n",
       "      <td>0</td>\n",
       "    </tr>\n",
       "    <tr>\n",
       "      <td>20</td>\n",
       "      <td>0.103152</td>\n",
       "      <td>party</td>\n",
       "      <td>gender</td>\n",
       "      <td>Independent</td>\n",
       "      <td>Male</td>\n",
       "      <td>0</td>\n",
       "      <td>0</td>\n",
       "    </tr>\n",
       "    <tr>\n",
       "      <td>...</td>\n",
       "      <td>...</td>\n",
       "      <td>...</td>\n",
       "      <td>...</td>\n",
       "      <td>...</td>\n",
       "      <td>...</td>\n",
       "      <td>...</td>\n",
       "      <td>...</td>\n",
       "    </tr>\n",
       "    <tr>\n",
       "      <td>112</td>\n",
       "      <td>0.034216</td>\n",
       "      <td>race</td>\n",
       "      <td>education</td>\n",
       "      <td>Hispanic</td>\n",
       "      <td>Some College</td>\n",
       "      <td>0</td>\n",
       "      <td>0</td>\n",
       "    </tr>\n",
       "    <tr>\n",
       "      <td>113</td>\n",
       "      <td>0.027588</td>\n",
       "      <td>race</td>\n",
       "      <td>education</td>\n",
       "      <td>Hispanic</td>\n",
       "      <td>College</td>\n",
       "      <td>0</td>\n",
       "      <td>0</td>\n",
       "    </tr>\n",
       "    <tr>\n",
       "      <td>114</td>\n",
       "      <td>0.010929</td>\n",
       "      <td>race</td>\n",
       "      <td>education</td>\n",
       "      <td>Other</td>\n",
       "      <td>High School</td>\n",
       "      <td>0</td>\n",
       "      <td>0</td>\n",
       "    </tr>\n",
       "    <tr>\n",
       "      <td>115</td>\n",
       "      <td>0.010570</td>\n",
       "      <td>race</td>\n",
       "      <td>education</td>\n",
       "      <td>Other</td>\n",
       "      <td>Some College</td>\n",
       "      <td>0</td>\n",
       "      <td>0</td>\n",
       "    </tr>\n",
       "    <tr>\n",
       "      <td>116</td>\n",
       "      <td>0.015142</td>\n",
       "      <td>race</td>\n",
       "      <td>education</td>\n",
       "      <td>Other</td>\n",
       "      <td>College</td>\n",
       "      <td>0</td>\n",
       "      <td>0</td>\n",
       "    </tr>\n",
       "  </tbody>\n",
       "</table>\n",
       "<p>101 rows × 7 columns</p>\n",
       "</div>"
      ],
      "text/plain": [
       "     Electoral_Proportion Demographic_Type_1 Demographic_Type_2 Demographic_1  \\\n",
       "16               0.150572              party             gender      Democrat   \n",
       "17               0.237355              party             gender      Democrat   \n",
       "18               0.192204              party             gender    Republican   \n",
       "19               0.206584              party             gender    Republican   \n",
       "20               0.103152              party             gender   Independent   \n",
       "..                    ...                ...                ...           ...   \n",
       "112              0.034216               race          education      Hispanic   \n",
       "113              0.027588               race          education      Hispanic   \n",
       "114              0.010929               race          education         Other   \n",
       "115              0.010570               race          education         Other   \n",
       "116              0.015142               race          education         Other   \n",
       "\n",
       "    Demographic_2  Hillary %  Final  \n",
       "16           Male          0      0  \n",
       "17         Female          0      0  \n",
       "18           Male          0      0  \n",
       "19         Female          0      0  \n",
       "20           Male          0      0  \n",
       "..            ...        ...    ...  \n",
       "112  Some College          0      0  \n",
       "113       College          0      0  \n",
       "114   High School          0      0  \n",
       "115  Some College          0      0  \n",
       "116       College          0      0  \n",
       "\n",
       "[101 rows x 7 columns]"
      ]
     },
     "execution_count": 25,
     "metadata": {},
     "output_type": "execute_result"
    }
   ],
   "source": [
    "demographic_groups2"
   ]
  },
  {
   "cell_type": "code",
   "execution_count": 26,
   "metadata": {},
   "outputs": [],
   "source": [
    "#exclude all votes EXCEPT for hillary and trump; exclude all REFUSED answers in each demographic\n",
    "dfpoll_test2 = dfpoll[(dfpoll['race']!='Refused') & (dfpoll['party'] != 'Refused') & (dfpoll['education']!='Refused') & ((dfpoll['candidate']=='Hillary Clinton') | (dfpoll['candidate']=='Donald Trump'))]"
   ]
  },
  {
   "cell_type": "code",
   "execution_count": 27,
   "metadata": {},
   "outputs": [],
   "source": [
    "#find all pairs of demographic types to make it easier to locate them in the dfpoll_test2\n",
    "pairs = []\n",
    "for i in demographic_groups2['Demographic_Type_1']:\n",
    "    for j in demographic_groups2['Demographic_Type_2']:\n",
    "        if i!= j:\n",
    "            add = (i, j)\n",
    "            if add not in pairs and (j, i) not in pairs:\n",
    "                pairs.append(add)"
   ]
  },
  {
   "cell_type": "code",
   "execution_count": 28,
   "metadata": {},
   "outputs": [
    {
     "data": {
      "text/plain": [
       "[('party', 'gender'),\n",
       " ('party', 'age'),\n",
       " ('party', 'race'),\n",
       " ('party', 'education'),\n",
       " ('gender', 'age'),\n",
       " ('gender', 'race'),\n",
       " ('gender', 'education'),\n",
       " ('age', 'race'),\n",
       " ('age', 'education'),\n",
       " ('race', 'education')]"
      ]
     },
     "execution_count": 28,
     "metadata": {},
     "output_type": "execute_result"
    }
   ],
   "source": [
    "pairs"
   ]
  },
  {
   "cell_type": "code",
   "execution_count": 29,
   "metadata": {},
   "outputs": [],
   "source": [
    "def double_demtype(demtype1, demtype2):\n",
    "    \n",
    "    dems = {}\n",
    "    #for each demographic type per demographic category\n",
    "    for idx, dem in enumerate(dfpoll_test2.groupby([demtype1, demtype2])['candidate'].value_counts(normalize=True).index.to_list()):\n",
    "        #if they voted for hillary clinton\n",
    "        if dem[2] == 'Hillary Clinton':\n",
    "            #store the voting percent for the demographic pairs\n",
    "            dems[(dem[0], dem[1])] = dfpoll_test2.groupby([demtype1, demtype2])['candidate'].value_counts(normalize=True)[idx]\n",
    "    return dems"
   ]
  },
  {
   "cell_type": "code",
   "execution_count": 30,
   "metadata": {},
   "outputs": [],
   "source": [
    "doubledems = {}\n",
    "#find the voting percent for each demographic pair\n",
    "for pair in pairs:\n",
    "    d = double_demtype(pair[0], pair[1])\n",
    "    for i, j in d.items():\n",
    "        doubledems[i] = j"
   ]
  },
  {
   "cell_type": "code",
   "execution_count": 31,
   "metadata": {},
   "outputs": [],
   "source": [
    "#for each row in demographic_groups2\n",
    "for row in range(demographic_groups2.shape[0]):\n",
    "    #for each pair of voting percents for each pair of demographic types\n",
    "    for key, val in doubledems.items():\n",
    "        #find the row that has both demographic types\n",
    "        if (demographic_groups2['Demographic_1'].iloc[row] == key[0]) and (demographic_groups2['Demographic_2'].iloc[row] == key[1]):\n",
    "            #store the voting percent in the df\n",
    "            demographic_groups2['Hillary %'].iloc[row] = val"
   ]
  },
  {
   "cell_type": "code",
   "execution_count": 32,
   "metadata": {},
   "outputs": [
    {
     "data": {
      "text/html": [
       "<div>\n",
       "<style scoped>\n",
       "    .dataframe tbody tr th:only-of-type {\n",
       "        vertical-align: middle;\n",
       "    }\n",
       "\n",
       "    .dataframe tbody tr th {\n",
       "        vertical-align: top;\n",
       "    }\n",
       "\n",
       "    .dataframe thead th {\n",
       "        text-align: right;\n",
       "    }\n",
       "</style>\n",
       "<table border=\"1\" class=\"dataframe\">\n",
       "  <thead>\n",
       "    <tr style=\"text-align: right;\">\n",
       "      <th></th>\n",
       "      <th>Electoral_Proportion</th>\n",
       "      <th>Demographic_Type_1</th>\n",
       "      <th>Demographic_Type_2</th>\n",
       "      <th>Demographic_1</th>\n",
       "      <th>Demographic_2</th>\n",
       "      <th>Hillary %</th>\n",
       "      <th>Final</th>\n",
       "    </tr>\n",
       "  </thead>\n",
       "  <tbody>\n",
       "    <tr>\n",
       "      <td>16</td>\n",
       "      <td>0.150572</td>\n",
       "      <td>party</td>\n",
       "      <td>gender</td>\n",
       "      <td>Democrat</td>\n",
       "      <td>Male</td>\n",
       "      <td>0.918033</td>\n",
       "      <td>0</td>\n",
       "    </tr>\n",
       "    <tr>\n",
       "      <td>17</td>\n",
       "      <td>0.237355</td>\n",
       "      <td>party</td>\n",
       "      <td>gender</td>\n",
       "      <td>Democrat</td>\n",
       "      <td>Female</td>\n",
       "      <td>0.954248</td>\n",
       "      <td>0</td>\n",
       "    </tr>\n",
       "    <tr>\n",
       "      <td>18</td>\n",
       "      <td>0.192204</td>\n",
       "      <td>party</td>\n",
       "      <td>gender</td>\n",
       "      <td>Republican</td>\n",
       "      <td>Male</td>\n",
       "      <td>0.070707</td>\n",
       "      <td>0</td>\n",
       "    </tr>\n",
       "    <tr>\n",
       "      <td>19</td>\n",
       "      <td>0.206584</td>\n",
       "      <td>party</td>\n",
       "      <td>gender</td>\n",
       "      <td>Republican</td>\n",
       "      <td>Female</td>\n",
       "      <td>0.072072</td>\n",
       "      <td>0</td>\n",
       "    </tr>\n",
       "    <tr>\n",
       "      <td>20</td>\n",
       "      <td>0.103152</td>\n",
       "      <td>party</td>\n",
       "      <td>gender</td>\n",
       "      <td>Independent</td>\n",
       "      <td>Male</td>\n",
       "      <td>0.407080</td>\n",
       "      <td>0</td>\n",
       "    </tr>\n",
       "    <tr>\n",
       "      <td>...</td>\n",
       "      <td>...</td>\n",
       "      <td>...</td>\n",
       "      <td>...</td>\n",
       "      <td>...</td>\n",
       "      <td>...</td>\n",
       "      <td>...</td>\n",
       "      <td>...</td>\n",
       "    </tr>\n",
       "    <tr>\n",
       "      <td>112</td>\n",
       "      <td>0.034216</td>\n",
       "      <td>race</td>\n",
       "      <td>education</td>\n",
       "      <td>Hispanic</td>\n",
       "      <td>Some College</td>\n",
       "      <td>0.734694</td>\n",
       "      <td>0</td>\n",
       "    </tr>\n",
       "    <tr>\n",
       "      <td>113</td>\n",
       "      <td>0.027588</td>\n",
       "      <td>race</td>\n",
       "      <td>education</td>\n",
       "      <td>Hispanic</td>\n",
       "      <td>College</td>\n",
       "      <td>0.767857</td>\n",
       "      <td>0</td>\n",
       "    </tr>\n",
       "    <tr>\n",
       "      <td>114</td>\n",
       "      <td>0.010929</td>\n",
       "      <td>race</td>\n",
       "      <td>education</td>\n",
       "      <td>Other</td>\n",
       "      <td>High School</td>\n",
       "      <td>0.400000</td>\n",
       "      <td>0</td>\n",
       "    </tr>\n",
       "    <tr>\n",
       "      <td>115</td>\n",
       "      <td>0.010570</td>\n",
       "      <td>race</td>\n",
       "      <td>education</td>\n",
       "      <td>Other</td>\n",
       "      <td>Some College</td>\n",
       "      <td>0.800000</td>\n",
       "      <td>0</td>\n",
       "    </tr>\n",
       "    <tr>\n",
       "      <td>116</td>\n",
       "      <td>0.015142</td>\n",
       "      <td>race</td>\n",
       "      <td>education</td>\n",
       "      <td>Other</td>\n",
       "      <td>College</td>\n",
       "      <td>0.642857</td>\n",
       "      <td>0</td>\n",
       "    </tr>\n",
       "  </tbody>\n",
       "</table>\n",
       "<p>101 rows × 7 columns</p>\n",
       "</div>"
      ],
      "text/plain": [
       "     Electoral_Proportion Demographic_Type_1 Demographic_Type_2 Demographic_1  \\\n",
       "16               0.150572              party             gender      Democrat   \n",
       "17               0.237355              party             gender      Democrat   \n",
       "18               0.192204              party             gender    Republican   \n",
       "19               0.206584              party             gender    Republican   \n",
       "20               0.103152              party             gender   Independent   \n",
       "..                    ...                ...                ...           ...   \n",
       "112              0.034216               race          education      Hispanic   \n",
       "113              0.027588               race          education      Hispanic   \n",
       "114              0.010929               race          education         Other   \n",
       "115              0.010570               race          education         Other   \n",
       "116              0.015142               race          education         Other   \n",
       "\n",
       "    Demographic_2  Hillary %  Final  \n",
       "16           Male   0.918033      0  \n",
       "17         Female   0.954248      0  \n",
       "18           Male   0.070707      0  \n",
       "19         Female   0.072072      0  \n",
       "20           Male   0.407080      0  \n",
       "..            ...        ...    ...  \n",
       "112  Some College   0.734694      0  \n",
       "113       College   0.767857      0  \n",
       "114   High School   0.400000      0  \n",
       "115  Some College   0.800000      0  \n",
       "116       College   0.642857      0  \n",
       "\n",
       "[101 rows x 7 columns]"
      ]
     },
     "execution_count": 32,
     "metadata": {},
     "output_type": "execute_result"
    }
   ],
   "source": [
    "demographic_groups2"
   ]
  },
  {
   "cell_type": "code",
   "execution_count": 33,
   "metadata": {},
   "outputs": [],
   "source": [
    "#multiply the population proportion by the voting percent to get the weighted average for each demographic pair\n",
    "demographic_groups2['Final'] = demographic_groups2['Electoral_Proportion']*demographic_groups2['Hillary %']"
   ]
  },
  {
   "cell_type": "code",
   "execution_count": 34,
   "metadata": {},
   "outputs": [
    {
     "data": {
      "text/html": [
       "<div>\n",
       "<style scoped>\n",
       "    .dataframe tbody tr th:only-of-type {\n",
       "        vertical-align: middle;\n",
       "    }\n",
       "\n",
       "    .dataframe tbody tr th {\n",
       "        vertical-align: top;\n",
       "    }\n",
       "\n",
       "    .dataframe thead th {\n",
       "        text-align: right;\n",
       "    }\n",
       "</style>\n",
       "<table border=\"1\" class=\"dataframe\">\n",
       "  <thead>\n",
       "    <tr style=\"text-align: right;\">\n",
       "      <th></th>\n",
       "      <th>Electoral_Proportion</th>\n",
       "      <th>Demographic_Type_1</th>\n",
       "      <th>Demographic_Type_2</th>\n",
       "      <th>Demographic_1</th>\n",
       "      <th>Demographic_2</th>\n",
       "      <th>Hillary %</th>\n",
       "      <th>Final</th>\n",
       "    </tr>\n",
       "  </thead>\n",
       "  <tbody>\n",
       "    <tr>\n",
       "      <td>16</td>\n",
       "      <td>0.150572</td>\n",
       "      <td>party</td>\n",
       "      <td>gender</td>\n",
       "      <td>Democrat</td>\n",
       "      <td>Male</td>\n",
       "      <td>0.918033</td>\n",
       "      <td>0.138230</td>\n",
       "    </tr>\n",
       "    <tr>\n",
       "      <td>17</td>\n",
       "      <td>0.237355</td>\n",
       "      <td>party</td>\n",
       "      <td>gender</td>\n",
       "      <td>Democrat</td>\n",
       "      <td>Female</td>\n",
       "      <td>0.954248</td>\n",
       "      <td>0.226496</td>\n",
       "    </tr>\n",
       "    <tr>\n",
       "      <td>18</td>\n",
       "      <td>0.192204</td>\n",
       "      <td>party</td>\n",
       "      <td>gender</td>\n",
       "      <td>Republican</td>\n",
       "      <td>Male</td>\n",
       "      <td>0.070707</td>\n",
       "      <td>0.013590</td>\n",
       "    </tr>\n",
       "    <tr>\n",
       "      <td>19</td>\n",
       "      <td>0.206584</td>\n",
       "      <td>party</td>\n",
       "      <td>gender</td>\n",
       "      <td>Republican</td>\n",
       "      <td>Female</td>\n",
       "      <td>0.072072</td>\n",
       "      <td>0.014889</td>\n",
       "    </tr>\n",
       "    <tr>\n",
       "      <td>20</td>\n",
       "      <td>0.103152</td>\n",
       "      <td>party</td>\n",
       "      <td>gender</td>\n",
       "      <td>Independent</td>\n",
       "      <td>Male</td>\n",
       "      <td>0.407080</td>\n",
       "      <td>0.041991</td>\n",
       "    </tr>\n",
       "    <tr>\n",
       "      <td>...</td>\n",
       "      <td>...</td>\n",
       "      <td>...</td>\n",
       "      <td>...</td>\n",
       "      <td>...</td>\n",
       "      <td>...</td>\n",
       "      <td>...</td>\n",
       "      <td>...</td>\n",
       "    </tr>\n",
       "    <tr>\n",
       "      <td>112</td>\n",
       "      <td>0.034216</td>\n",
       "      <td>race</td>\n",
       "      <td>education</td>\n",
       "      <td>Hispanic</td>\n",
       "      <td>Some College</td>\n",
       "      <td>0.734694</td>\n",
       "      <td>0.025138</td>\n",
       "    </tr>\n",
       "    <tr>\n",
       "      <td>113</td>\n",
       "      <td>0.027588</td>\n",
       "      <td>race</td>\n",
       "      <td>education</td>\n",
       "      <td>Hispanic</td>\n",
       "      <td>College</td>\n",
       "      <td>0.767857</td>\n",
       "      <td>0.021184</td>\n",
       "    </tr>\n",
       "    <tr>\n",
       "      <td>114</td>\n",
       "      <td>0.010929</td>\n",
       "      <td>race</td>\n",
       "      <td>education</td>\n",
       "      <td>Other</td>\n",
       "      <td>High School</td>\n",
       "      <td>0.400000</td>\n",
       "      <td>0.004372</td>\n",
       "    </tr>\n",
       "    <tr>\n",
       "      <td>115</td>\n",
       "      <td>0.010570</td>\n",
       "      <td>race</td>\n",
       "      <td>education</td>\n",
       "      <td>Other</td>\n",
       "      <td>Some College</td>\n",
       "      <td>0.800000</td>\n",
       "      <td>0.008456</td>\n",
       "    </tr>\n",
       "    <tr>\n",
       "      <td>116</td>\n",
       "      <td>0.015142</td>\n",
       "      <td>race</td>\n",
       "      <td>education</td>\n",
       "      <td>Other</td>\n",
       "      <td>College</td>\n",
       "      <td>0.642857</td>\n",
       "      <td>0.009734</td>\n",
       "    </tr>\n",
       "  </tbody>\n",
       "</table>\n",
       "<p>101 rows × 7 columns</p>\n",
       "</div>"
      ],
      "text/plain": [
       "     Electoral_Proportion Demographic_Type_1 Demographic_Type_2 Demographic_1  \\\n",
       "16               0.150572              party             gender      Democrat   \n",
       "17               0.237355              party             gender      Democrat   \n",
       "18               0.192204              party             gender    Republican   \n",
       "19               0.206584              party             gender    Republican   \n",
       "20               0.103152              party             gender   Independent   \n",
       "..                    ...                ...                ...           ...   \n",
       "112              0.034216               race          education      Hispanic   \n",
       "113              0.027588               race          education      Hispanic   \n",
       "114              0.010929               race          education         Other   \n",
       "115              0.010570               race          education         Other   \n",
       "116              0.015142               race          education         Other   \n",
       "\n",
       "    Demographic_2  Hillary %     Final  \n",
       "16           Male   0.918033  0.138230  \n",
       "17         Female   0.954248  0.226496  \n",
       "18           Male   0.070707  0.013590  \n",
       "19         Female   0.072072  0.014889  \n",
       "20           Male   0.407080  0.041991  \n",
       "..            ...        ...       ...  \n",
       "112  Some College   0.734694  0.025138  \n",
       "113       College   0.767857  0.021184  \n",
       "114   High School   0.400000  0.004372  \n",
       "115  Some College   0.800000  0.008456  \n",
       "116       College   0.642857  0.009734  \n",
       "\n",
       "[101 rows x 7 columns]"
      ]
     },
     "execution_count": 34,
     "metadata": {},
     "output_type": "execute_result"
    }
   ],
   "source": [
    "demographic_groups2"
   ]
  },
  {
   "cell_type": "code",
   "execution_count": 35,
   "metadata": {},
   "outputs": [],
   "source": [
    "final_results_dub = {}\n",
    "for dems in pairs:\n",
    "    #add all of the weighted averages of subcategories to get the final weighted average for demographic pairs\n",
    "    final_results_dub[dems] = 100*(demographic_groups2[(demographic_groups2['Demographic_Type_1']==dems[0]) & (demographic_groups2['Demographic_Type_2']==dems[1])]['Final'].sum())"
   ]
  },
  {
   "cell_type": "code",
   "execution_count": 36,
   "metadata": {},
   "outputs": [
    {
     "data": {
      "text/html": [
       "<div>\n",
       "<style scoped>\n",
       "    .dataframe tbody tr th:only-of-type {\n",
       "        vertical-align: middle;\n",
       "    }\n",
       "\n",
       "    .dataframe tbody tr th {\n",
       "        vertical-align: top;\n",
       "    }\n",
       "\n",
       "    .dataframe thead th {\n",
       "        text-align: right;\n",
       "    }\n",
       "</style>\n",
       "<table border=\"1\" class=\"dataframe\">\n",
       "  <thead>\n",
       "    <tr style=\"text-align: right;\">\n",
       "      <th></th>\n",
       "      <th>index</th>\n",
       "      <th>Weighted Poll (% Hillary)</th>\n",
       "    </tr>\n",
       "  </thead>\n",
       "  <tbody>\n",
       "    <tr>\n",
       "      <td>0</td>\n",
       "      <td>(party, gender)</td>\n",
       "      <td>50.315066</td>\n",
       "    </tr>\n",
       "    <tr>\n",
       "      <td>1</td>\n",
       "      <td>(party, age)</td>\n",
       "      <td>49.897570</td>\n",
       "    </tr>\n",
       "    <tr>\n",
       "      <td>2</td>\n",
       "      <td>(party, race)</td>\n",
       "      <td>50.140554</td>\n",
       "    </tr>\n",
       "    <tr>\n",
       "      <td>3</td>\n",
       "      <td>(party, education)</td>\n",
       "      <td>49.367935</td>\n",
       "    </tr>\n",
       "    <tr>\n",
       "      <td>4</td>\n",
       "      <td>(gender, age)</td>\n",
       "      <td>53.340309</td>\n",
       "    </tr>\n",
       "    <tr>\n",
       "      <td>5</td>\n",
       "      <td>(gender, race)</td>\n",
       "      <td>53.144842</td>\n",
       "    </tr>\n",
       "    <tr>\n",
       "      <td>6</td>\n",
       "      <td>(gender, education)</td>\n",
       "      <td>54.441858</td>\n",
       "    </tr>\n",
       "    <tr>\n",
       "      <td>7</td>\n",
       "      <td>(age, race)</td>\n",
       "      <td>52.184001</td>\n",
       "    </tr>\n",
       "    <tr>\n",
       "      <td>8</td>\n",
       "      <td>(age, education)</td>\n",
       "      <td>52.578129</td>\n",
       "    </tr>\n",
       "    <tr>\n",
       "      <td>9</td>\n",
       "      <td>(race, education)</td>\n",
       "      <td>50.943755</td>\n",
       "    </tr>\n",
       "  </tbody>\n",
       "</table>\n",
       "</div>"
      ],
      "text/plain": [
       "                 index  Weighted Poll (% Hillary)\n",
       "0      (party, gender)                  50.315066\n",
       "1         (party, age)                  49.897570\n",
       "2        (party, race)                  50.140554\n",
       "3   (party, education)                  49.367935\n",
       "4        (gender, age)                  53.340309\n",
       "5       (gender, race)                  53.144842\n",
       "6  (gender, education)                  54.441858\n",
       "7          (age, race)                  52.184001\n",
       "8     (age, education)                  52.578129\n",
       "9    (race, education)                  50.943755"
      ]
     },
     "execution_count": 36,
     "metadata": {},
     "output_type": "execute_result"
    }
   ],
   "source": [
    "#organize the results\n",
    "final_df_double = pd.DataFrame.from_dict(final_results_dub, orient='index', columns=['Weighted Poll (% Hillary)'])\n",
    "final_df_double = final_df_double.reset_index()\n",
    "final_df_double"
   ]
  },
  {
   "cell_type": "markdown",
   "metadata": {},
   "source": [
    "Observation:\n",
    "\n",
    "Weighting the polling average by two demographic types at once does not seem to help much with accurately predicting a Trump 2020 win; the weighted polling averages here still, overall, show a Hillary Clinton win. However, some joint distrubtion weighted averages show a more probable Hillary Clinton win than other estimates using other demographic combinations. While weighting the poll doesn't correct the weighted average twoards Trump, these new weighted estimates show new information about which covariates  bolster or lessen the probability of a Trump win."
   ]
  },
  {
   "cell_type": "markdown",
   "metadata": {},
   "source": [
    "### 3) 2-dimensional marginal "
   ]
  },
  {
   "cell_type": "markdown",
   "metadata": {
    "ExecuteTime": {
     "end_time": "2021-09-01T18:25:18.040978Z",
     "start_time": "2021-09-01T18:25:18.016981Z"
    }
   },
   "source": [
    "<font color='blue'>We don't always have access to joint distributions across the population -- for example, it may be hard to estimate from past exit polls (surveys done as people are leaving the polling station) what the joint distribution of education and gender is, for example. However, access to marginal distributions are often available. \n",
    "\n",
    "As discussed in class, one strategy when you don't have access to joint distributions -- only marginals -- is to _multiply_ the marginal distributions. For example, if 50% of your population is Democratic and 50% is a woman, then pretend that 50% times 50% = 25% of your population is a Democratic women. Clearly this technique is not perfect, but it is sometimes a useful heuristic.   \n",
    "\n",
    "For the following pairs of Demographic types, report the weighting results if you use the joint distributions in dfdemographic versus if you approximate the joint distribution using the marginals. Briefly (at most 3 sentences) describe what you observe.\n",
    "\n",
    "(party, gender)\n",
    "\n",
    "<font color='blue'> (race, gender)\n",
    "\n",
    "<font color='black'> \n",
    "Observation:\n",
    "    \n",
    "After multiplying the marginal distributions for the two demographic pairs above and using the new joint distribution to find new weighted averages, the new estimates are not any different than the estimates above using the joint distributions given. Below I print the original estimates for these two demographic combinations using the Electoral_Proportion value given in dfdemographic for easy comparison to the weighed average calculated using the new method (multiply marginal distributions)."
   ]
  },
  {
   "cell_type": "markdown",
   "metadata": {},
   "source": [
    "#### (party, gender)"
   ]
  },
  {
   "cell_type": "code",
   "execution_count": 37,
   "metadata": {},
   "outputs": [],
   "source": [
    "og_weight_avg = final_results_dub[('party', 'gender')]"
   ]
  },
  {
   "cell_type": "code",
   "execution_count": 38,
   "metadata": {},
   "outputs": [
    {
     "data": {
      "text/html": [
       "<div>\n",
       "<style scoped>\n",
       "    .dataframe tbody tr th:only-of-type {\n",
       "        vertical-align: middle;\n",
       "    }\n",
       "\n",
       "    .dataframe tbody tr th {\n",
       "        vertical-align: top;\n",
       "    }\n",
       "\n",
       "    .dataframe thead th {\n",
       "        text-align: right;\n",
       "    }\n",
       "</style>\n",
       "<table border=\"1\" class=\"dataframe\">\n",
       "  <thead>\n",
       "    <tr style=\"text-align: right;\">\n",
       "      <th></th>\n",
       "      <th>Electoral_Proportion</th>\n",
       "      <th>Demographic_Type_1</th>\n",
       "      <th>Demographic_Type_2</th>\n",
       "      <th>Demographic_1</th>\n",
       "      <th>Demographic_2</th>\n",
       "      <th>Hillary %</th>\n",
       "      <th>Final</th>\n",
       "    </tr>\n",
       "  </thead>\n",
       "  <tbody>\n",
       "    <tr>\n",
       "      <td>0</td>\n",
       "      <td>0.387927</td>\n",
       "      <td>party</td>\n",
       "      <td>NaN</td>\n",
       "      <td>Democrat</td>\n",
       "      <td>NaN</td>\n",
       "      <td>0.938182</td>\n",
       "      <td>0.363946</td>\n",
       "    </tr>\n",
       "    <tr>\n",
       "      <td>1</td>\n",
       "      <td>0.398788</td>\n",
       "      <td>party</td>\n",
       "      <td>NaN</td>\n",
       "      <td>Republican</td>\n",
       "      <td>NaN</td>\n",
       "      <td>0.071429</td>\n",
       "      <td>0.028485</td>\n",
       "    </tr>\n",
       "    <tr>\n",
       "      <td>2</td>\n",
       "      <td>0.213285</td>\n",
       "      <td>party</td>\n",
       "      <td>NaN</td>\n",
       "      <td>Independent</td>\n",
       "      <td>NaN</td>\n",
       "      <td>0.502415</td>\n",
       "      <td>0.107158</td>\n",
       "    </tr>\n",
       "    <tr>\n",
       "      <td>3</td>\n",
       "      <td>0.445928</td>\n",
       "      <td>gender</td>\n",
       "      <td>NaN</td>\n",
       "      <td>Male</td>\n",
       "      <td>NaN</td>\n",
       "      <td>0.494012</td>\n",
       "      <td>0.220294</td>\n",
       "    </tr>\n",
       "    <tr>\n",
       "      <td>4</td>\n",
       "      <td>0.554072</td>\n",
       "      <td>gender</td>\n",
       "      <td>NaN</td>\n",
       "      <td>Female</td>\n",
       "      <td>NaN</td>\n",
       "      <td>0.592179</td>\n",
       "      <td>0.328110</td>\n",
       "    </tr>\n",
       "    <tr>\n",
       "      <td>5</td>\n",
       "      <td>0.109728</td>\n",
       "      <td>age</td>\n",
       "      <td>NaN</td>\n",
       "      <td>18-29</td>\n",
       "      <td>NaN</td>\n",
       "      <td>0.664286</td>\n",
       "      <td>0.072890</td>\n",
       "    </tr>\n",
       "    <tr>\n",
       "      <td>6</td>\n",
       "      <td>0.182219</td>\n",
       "      <td>age</td>\n",
       "      <td>NaN</td>\n",
       "      <td>30-44</td>\n",
       "      <td>NaN</td>\n",
       "      <td>0.598291</td>\n",
       "      <td>0.109020</td>\n",
       "    </tr>\n",
       "    <tr>\n",
       "      <td>7</td>\n",
       "      <td>0.378175</td>\n",
       "      <td>age</td>\n",
       "      <td>NaN</td>\n",
       "      <td>45-64</td>\n",
       "      <td>NaN</td>\n",
       "      <td>0.509009</td>\n",
       "      <td>0.192494</td>\n",
       "    </tr>\n",
       "    <tr>\n",
       "      <td>8</td>\n",
       "      <td>0.329879</td>\n",
       "      <td>age</td>\n",
       "      <td>NaN</td>\n",
       "      <td>65+</td>\n",
       "      <td>NaN</td>\n",
       "      <td>0.474178</td>\n",
       "      <td>0.156421</td>\n",
       "    </tr>\n",
       "    <tr>\n",
       "      <td>9</td>\n",
       "      <td>0.697968</td>\n",
       "      <td>race</td>\n",
       "      <td>NaN</td>\n",
       "      <td>White</td>\n",
       "      <td>NaN</td>\n",
       "      <td>0.395034</td>\n",
       "      <td>0.275721</td>\n",
       "    </tr>\n",
       "    <tr>\n",
       "      <td>10</td>\n",
       "      <td>0.135672</td>\n",
       "      <td>race</td>\n",
       "      <td>NaN</td>\n",
       "      <td>Black</td>\n",
       "      <td>NaN</td>\n",
       "      <td>0.937500</td>\n",
       "      <td>0.127192</td>\n",
       "    </tr>\n",
       "    <tr>\n",
       "      <td>11</td>\n",
       "      <td>0.129719</td>\n",
       "      <td>race</td>\n",
       "      <td>NaN</td>\n",
       "      <td>Hispanic</td>\n",
       "      <td>NaN</td>\n",
       "      <td>0.771429</td>\n",
       "      <td>0.100069</td>\n",
       "    </tr>\n",
       "    <tr>\n",
       "      <td>12</td>\n",
       "      <td>0.036641</td>\n",
       "      <td>race</td>\n",
       "      <td>NaN</td>\n",
       "      <td>Other</td>\n",
       "      <td>NaN</td>\n",
       "      <td>0.655172</td>\n",
       "      <td>0.024006</td>\n",
       "    </tr>\n",
       "    <tr>\n",
       "      <td>13</td>\n",
       "      <td>0.374316</td>\n",
       "      <td>education</td>\n",
       "      <td>NaN</td>\n",
       "      <td>High School</td>\n",
       "      <td>NaN</td>\n",
       "      <td>0.528169</td>\n",
       "      <td>0.197702</td>\n",
       "    </tr>\n",
       "    <tr>\n",
       "      <td>14</td>\n",
       "      <td>0.298679</td>\n",
       "      <td>education</td>\n",
       "      <td>NaN</td>\n",
       "      <td>Some College</td>\n",
       "      <td>NaN</td>\n",
       "      <td>0.550607</td>\n",
       "      <td>0.164455</td>\n",
       "    </tr>\n",
       "    <tr>\n",
       "      <td>15</td>\n",
       "      <td>0.327006</td>\n",
       "      <td>education</td>\n",
       "      <td>NaN</td>\n",
       "      <td>College</td>\n",
       "      <td>NaN</td>\n",
       "      <td>0.547855</td>\n",
       "      <td>0.179152</td>\n",
       "    </tr>\n",
       "  </tbody>\n",
       "</table>\n",
       "</div>"
      ],
      "text/plain": [
       "    Electoral_Proportion Demographic_Type_1 Demographic_Type_2 Demographic_1  \\\n",
       "0               0.387927              party                NaN      Democrat   \n",
       "1               0.398788              party                NaN    Republican   \n",
       "2               0.213285              party                NaN   Independent   \n",
       "3               0.445928             gender                NaN          Male   \n",
       "4               0.554072             gender                NaN        Female   \n",
       "5               0.109728                age                NaN         18-29   \n",
       "6               0.182219                age                NaN         30-44   \n",
       "7               0.378175                age                NaN         45-64   \n",
       "8               0.329879                age                NaN           65+   \n",
       "9               0.697968               race                NaN         White   \n",
       "10              0.135672               race                NaN         Black   \n",
       "11              0.129719               race                NaN      Hispanic   \n",
       "12              0.036641               race                NaN         Other   \n",
       "13              0.374316          education                NaN   High School   \n",
       "14              0.298679          education                NaN  Some College   \n",
       "15              0.327006          education                NaN       College   \n",
       "\n",
       "   Demographic_2  Hillary %     Final  \n",
       "0            NaN   0.938182  0.363946  \n",
       "1            NaN   0.071429  0.028485  \n",
       "2            NaN   0.502415  0.107158  \n",
       "3            NaN   0.494012  0.220294  \n",
       "4            NaN   0.592179  0.328110  \n",
       "5            NaN   0.664286  0.072890  \n",
       "6            NaN   0.598291  0.109020  \n",
       "7            NaN   0.509009  0.192494  \n",
       "8            NaN   0.474178  0.156421  \n",
       "9            NaN   0.395034  0.275721  \n",
       "10           NaN   0.937500  0.127192  \n",
       "11           NaN   0.771429  0.100069  \n",
       "12           NaN   0.655172  0.024006  \n",
       "13           NaN   0.528169  0.197702  \n",
       "14           NaN   0.550607  0.164455  \n",
       "15           NaN   0.547855  0.179152  "
      ]
     },
     "execution_count": 38,
     "metadata": {},
     "output_type": "execute_result"
    }
   ],
   "source": [
    "demographic_groups"
   ]
  },
  {
   "cell_type": "code",
   "execution_count": 39,
   "metadata": {},
   "outputs": [],
   "source": [
    "marginal_ds = {}\n",
    "dflookup=demographic_groups[(demographic_groups['Demographic_Type_1']=='party') | (demographic_groups['Demographic_Type_1'] == 'gender')]\n",
    "for row in range(dflookup.shape[0]):\n",
    "    marginal_ds[dflookup['Demographic_1'].iloc[row]] = dflookup['Electoral_Proportion'].iloc[row]"
   ]
  },
  {
   "cell_type": "code",
   "execution_count": 40,
   "metadata": {},
   "outputs": [
    {
     "data": {
      "text/plain": [
       "{'Democrat': 0.387927360966456,\n",
       " 'Republican': 0.39878760019453896,\n",
       " 'Independent': 0.213285038839005,\n",
       " 'Male': 0.44592792646053503,\n",
       " 'Female': 0.554072073539465}"
      ]
     },
     "execution_count": 40,
     "metadata": {},
     "output_type": "execute_result"
    }
   ],
   "source": [
    "marginal_ds"
   ]
  },
  {
   "cell_type": "code",
   "execution_count": 41,
   "metadata": {},
   "outputs": [
    {
     "data": {
      "text/html": [
       "<div>\n",
       "<style scoped>\n",
       "    .dataframe tbody tr th:only-of-type {\n",
       "        vertical-align: middle;\n",
       "    }\n",
       "\n",
       "    .dataframe tbody tr th {\n",
       "        vertical-align: top;\n",
       "    }\n",
       "\n",
       "    .dataframe thead th {\n",
       "        text-align: right;\n",
       "    }\n",
       "</style>\n",
       "<table border=\"1\" class=\"dataframe\">\n",
       "  <thead>\n",
       "    <tr style=\"text-align: right;\">\n",
       "      <th></th>\n",
       "      <th>Electoral_Proportion</th>\n",
       "      <th>Demographic_Type_1</th>\n",
       "      <th>Demographic_Type_2</th>\n",
       "      <th>Demographic_1</th>\n",
       "      <th>Demographic_2</th>\n",
       "      <th>Hillary %</th>\n",
       "      <th>Final</th>\n",
       "    </tr>\n",
       "  </thead>\n",
       "  <tbody>\n",
       "    <tr>\n",
       "      <td>0</td>\n",
       "      <td>0.387927</td>\n",
       "      <td>party</td>\n",
       "      <td>NaN</td>\n",
       "      <td>Democrat</td>\n",
       "      <td>NaN</td>\n",
       "      <td>0.938182</td>\n",
       "      <td>0.363946</td>\n",
       "    </tr>\n",
       "    <tr>\n",
       "      <td>1</td>\n",
       "      <td>0.398788</td>\n",
       "      <td>party</td>\n",
       "      <td>NaN</td>\n",
       "      <td>Republican</td>\n",
       "      <td>NaN</td>\n",
       "      <td>0.071429</td>\n",
       "      <td>0.028485</td>\n",
       "    </tr>\n",
       "    <tr>\n",
       "      <td>2</td>\n",
       "      <td>0.213285</td>\n",
       "      <td>party</td>\n",
       "      <td>NaN</td>\n",
       "      <td>Independent</td>\n",
       "      <td>NaN</td>\n",
       "      <td>0.502415</td>\n",
       "      <td>0.107158</td>\n",
       "    </tr>\n",
       "    <tr>\n",
       "      <td>3</td>\n",
       "      <td>0.445928</td>\n",
       "      <td>gender</td>\n",
       "      <td>NaN</td>\n",
       "      <td>Male</td>\n",
       "      <td>NaN</td>\n",
       "      <td>0.494012</td>\n",
       "      <td>0.220294</td>\n",
       "    </tr>\n",
       "    <tr>\n",
       "      <td>4</td>\n",
       "      <td>0.554072</td>\n",
       "      <td>gender</td>\n",
       "      <td>NaN</td>\n",
       "      <td>Female</td>\n",
       "      <td>NaN</td>\n",
       "      <td>0.592179</td>\n",
       "      <td>0.328110</td>\n",
       "    </tr>\n",
       "  </tbody>\n",
       "</table>\n",
       "</div>"
      ],
      "text/plain": [
       "   Electoral_Proportion Demographic_Type_1 Demographic_Type_2 Demographic_1  \\\n",
       "0              0.387927              party                NaN      Democrat   \n",
       "1              0.398788              party                NaN    Republican   \n",
       "2              0.213285              party                NaN   Independent   \n",
       "3              0.445928             gender                NaN          Male   \n",
       "4              0.554072             gender                NaN        Female   \n",
       "\n",
       "  Demographic_2  Hillary %     Final  \n",
       "0           NaN   0.938182  0.363946  \n",
       "1           NaN   0.071429  0.028485  \n",
       "2           NaN   0.502415  0.107158  \n",
       "3           NaN   0.494012  0.220294  \n",
       "4           NaN   0.592179  0.328110  "
      ]
     },
     "execution_count": 41,
     "metadata": {},
     "output_type": "execute_result"
    }
   ],
   "source": [
    "dflookup"
   ]
  },
  {
   "cell_type": "code",
   "execution_count": 42,
   "metadata": {},
   "outputs": [],
   "source": [
    "partyd = dict(list(marginal_ds.items())[0:3])\n",
    "genderd = dict(list(marginal_ds.items())[3:5])"
   ]
  },
  {
   "cell_type": "code",
   "execution_count": 43,
   "metadata": {},
   "outputs": [
    {
     "data": {
      "text/plain": [
       "{'Democrat': 0.387927360966456,\n",
       " 'Republican': 0.39878760019453896,\n",
       " 'Independent': 0.213285038839005}"
      ]
     },
     "execution_count": 43,
     "metadata": {},
     "output_type": "execute_result"
    }
   ],
   "source": [
    "partyd"
   ]
  },
  {
   "cell_type": "code",
   "execution_count": 44,
   "metadata": {},
   "outputs": [],
   "source": [
    "partyd = dict(list(marginal_ds.items())[0:3])\n",
    "genderd = dict(list(marginal_ds.items())[3:5])\n",
    "\n",
    "import itertools\n",
    "permut = itertools.permutations(list(partyd.keys()), len(list(genderd.keys())))\n",
    "unique_combs = []\n",
    "for comb in permut:\n",
    "    zipped = zip(comb, genderd.keys())\n",
    "\n",
    "    for i in list(zipped):\n",
    "        if i not in unique_combs:\n",
    "            unique_combs.append(i)"
   ]
  },
  {
   "cell_type": "code",
   "execution_count": 45,
   "metadata": {},
   "outputs": [
    {
     "data": {
      "text/plain": [
       "[('Democrat', 'Male'),\n",
       " ('Republican', 'Female'),\n",
       " ('Independent', 'Female'),\n",
       " ('Republican', 'Male'),\n",
       " ('Democrat', 'Female'),\n",
       " ('Independent', 'Male')]"
      ]
     },
     "execution_count": 45,
     "metadata": {},
     "output_type": "execute_result"
    }
   ],
   "source": [
    "unique_combs"
   ]
  },
  {
   "cell_type": "code",
   "execution_count": 46,
   "metadata": {},
   "outputs": [],
   "source": [
    "marginal_ds_calc = {}\n",
    "for pair in unique_combs:\n",
    "#     print(pair[0], marginal_ds[pair[0]])\n",
    "#     print(pair[1], marginal_ds[pair[1]])\n",
    "    marginal_ds_calc[pair] = marginal_ds[pair[0]] * marginal_ds[pair[1]]"
   ]
  },
  {
   "cell_type": "code",
   "execution_count": 47,
   "metadata": {},
   "outputs": [
    {
     "data": {
      "text/plain": [
       "{('Democrat', 'Male'): 0.17298764369307923,\n",
       " ('Republican', 'Female'): 0.22095707254161534,\n",
       " ('Independent', 'Female'): 0.11817528372447281,\n",
       " ('Republican', 'Male'): 0.17783052765292362,\n",
       " ('Democrat', 'Female'): 0.2149397172733768,\n",
       " ('Independent', 'Male'): 0.09510975511453218}"
      ]
     },
     "execution_count": 47,
     "metadata": {},
     "output_type": "execute_result"
    }
   ],
   "source": [
    "marginal_ds_calc"
   ]
  },
  {
   "cell_type": "code",
   "execution_count": 48,
   "metadata": {},
   "outputs": [
    {
     "data": {
      "text/html": [
       "<div>\n",
       "<style scoped>\n",
       "    .dataframe tbody tr th:only-of-type {\n",
       "        vertical-align: middle;\n",
       "    }\n",
       "\n",
       "    .dataframe tbody tr th {\n",
       "        vertical-align: top;\n",
       "    }\n",
       "\n",
       "    .dataframe thead th {\n",
       "        text-align: right;\n",
       "    }\n",
       "</style>\n",
       "<table border=\"1\" class=\"dataframe\">\n",
       "  <thead>\n",
       "    <tr style=\"text-align: right;\">\n",
       "      <th></th>\n",
       "      <th>Electoral_Proportion</th>\n",
       "      <th>Demographic_Type_1</th>\n",
       "      <th>Demographic_Type_2</th>\n",
       "      <th>Demographic_1</th>\n",
       "      <th>Demographic_2</th>\n",
       "      <th>Hillary %</th>\n",
       "      <th>Final</th>\n",
       "    </tr>\n",
       "  </thead>\n",
       "  <tbody>\n",
       "    <tr>\n",
       "      <td>16</td>\n",
       "      <td>0.150572</td>\n",
       "      <td>party</td>\n",
       "      <td>gender</td>\n",
       "      <td>Democrat</td>\n",
       "      <td>Male</td>\n",
       "      <td>0.918033</td>\n",
       "      <td>0.138230</td>\n",
       "    </tr>\n",
       "    <tr>\n",
       "      <td>17</td>\n",
       "      <td>0.237355</td>\n",
       "      <td>party</td>\n",
       "      <td>gender</td>\n",
       "      <td>Democrat</td>\n",
       "      <td>Female</td>\n",
       "      <td>0.954248</td>\n",
       "      <td>0.226496</td>\n",
       "    </tr>\n",
       "    <tr>\n",
       "      <td>18</td>\n",
       "      <td>0.192204</td>\n",
       "      <td>party</td>\n",
       "      <td>gender</td>\n",
       "      <td>Republican</td>\n",
       "      <td>Male</td>\n",
       "      <td>0.070707</td>\n",
       "      <td>0.013590</td>\n",
       "    </tr>\n",
       "    <tr>\n",
       "      <td>19</td>\n",
       "      <td>0.206584</td>\n",
       "      <td>party</td>\n",
       "      <td>gender</td>\n",
       "      <td>Republican</td>\n",
       "      <td>Female</td>\n",
       "      <td>0.072072</td>\n",
       "      <td>0.014889</td>\n",
       "    </tr>\n",
       "    <tr>\n",
       "      <td>20</td>\n",
       "      <td>0.103152</td>\n",
       "      <td>party</td>\n",
       "      <td>gender</td>\n",
       "      <td>Independent</td>\n",
       "      <td>Male</td>\n",
       "      <td>0.407080</td>\n",
       "      <td>0.041991</td>\n",
       "    </tr>\n",
       "    <tr>\n",
       "      <td>21</td>\n",
       "      <td>0.110133</td>\n",
       "      <td>party</td>\n",
       "      <td>gender</td>\n",
       "      <td>Independent</td>\n",
       "      <td>Female</td>\n",
       "      <td>0.617021</td>\n",
       "      <td>0.067955</td>\n",
       "    </tr>\n",
       "  </tbody>\n",
       "</table>\n",
       "</div>"
      ],
      "text/plain": [
       "    Electoral_Proportion Demographic_Type_1 Demographic_Type_2 Demographic_1  \\\n",
       "16              0.150572              party             gender      Democrat   \n",
       "17              0.237355              party             gender      Democrat   \n",
       "18              0.192204              party             gender    Republican   \n",
       "19              0.206584              party             gender    Republican   \n",
       "20              0.103152              party             gender   Independent   \n",
       "21              0.110133              party             gender   Independent   \n",
       "\n",
       "   Demographic_2  Hillary %     Final  \n",
       "16          Male   0.918033  0.138230  \n",
       "17        Female   0.954248  0.226496  \n",
       "18          Male   0.070707  0.013590  \n",
       "19        Female   0.072072  0.014889  \n",
       "20          Male   0.407080  0.041991  \n",
       "21        Female   0.617021  0.067955  "
      ]
     },
     "execution_count": 48,
     "metadata": {},
     "output_type": "execute_result"
    }
   ],
   "source": [
    "df_double_marginal =demographic_groups2[(demographic_groups2['Demographic_Type_1']=='party') & (demographic_groups2['Demographic_Type_2']=='gender')].copy(deep=True)\n",
    "df_double_marginal\n",
    "#replace electoral pro with new marginal calculations, and multiply again by hillary %"
   ]
  },
  {
   "cell_type": "code",
   "execution_count": 49,
   "metadata": {},
   "outputs": [],
   "source": [
    "#update new joint distributions in the df\n",
    "for row in range(df_double_marginal.shape[0]):\n",
    "    for key, val in marginal_ds_calc.items():\n",
    "        if (df_double_marginal['Demographic_1'].iloc[row] == key[0]) and (df_double_marginal['Demographic_2'].iloc[row] == key[1]):\n",
    "            df_double_marginal['Electoral_Proportion'].iloc[row] = val"
   ]
  },
  {
   "cell_type": "code",
   "execution_count": 50,
   "metadata": {},
   "outputs": [
    {
     "data": {
      "text/html": [
       "<div>\n",
       "<style scoped>\n",
       "    .dataframe tbody tr th:only-of-type {\n",
       "        vertical-align: middle;\n",
       "    }\n",
       "\n",
       "    .dataframe tbody tr th {\n",
       "        vertical-align: top;\n",
       "    }\n",
       "\n",
       "    .dataframe thead th {\n",
       "        text-align: right;\n",
       "    }\n",
       "</style>\n",
       "<table border=\"1\" class=\"dataframe\">\n",
       "  <thead>\n",
       "    <tr style=\"text-align: right;\">\n",
       "      <th></th>\n",
       "      <th>Electoral_Proportion</th>\n",
       "      <th>Demographic_Type_1</th>\n",
       "      <th>Demographic_Type_2</th>\n",
       "      <th>Demographic_1</th>\n",
       "      <th>Demographic_2</th>\n",
       "      <th>Hillary %</th>\n",
       "      <th>Final</th>\n",
       "    </tr>\n",
       "  </thead>\n",
       "  <tbody>\n",
       "    <tr>\n",
       "      <td>16</td>\n",
       "      <td>0.172988</td>\n",
       "      <td>party</td>\n",
       "      <td>gender</td>\n",
       "      <td>Democrat</td>\n",
       "      <td>Male</td>\n",
       "      <td>0.918033</td>\n",
       "      <td>0.138230</td>\n",
       "    </tr>\n",
       "    <tr>\n",
       "      <td>17</td>\n",
       "      <td>0.214940</td>\n",
       "      <td>party</td>\n",
       "      <td>gender</td>\n",
       "      <td>Democrat</td>\n",
       "      <td>Female</td>\n",
       "      <td>0.954248</td>\n",
       "      <td>0.226496</td>\n",
       "    </tr>\n",
       "    <tr>\n",
       "      <td>18</td>\n",
       "      <td>0.177831</td>\n",
       "      <td>party</td>\n",
       "      <td>gender</td>\n",
       "      <td>Republican</td>\n",
       "      <td>Male</td>\n",
       "      <td>0.070707</td>\n",
       "      <td>0.013590</td>\n",
       "    </tr>\n",
       "    <tr>\n",
       "      <td>19</td>\n",
       "      <td>0.220957</td>\n",
       "      <td>party</td>\n",
       "      <td>gender</td>\n",
       "      <td>Republican</td>\n",
       "      <td>Female</td>\n",
       "      <td>0.072072</td>\n",
       "      <td>0.014889</td>\n",
       "    </tr>\n",
       "    <tr>\n",
       "      <td>20</td>\n",
       "      <td>0.095110</td>\n",
       "      <td>party</td>\n",
       "      <td>gender</td>\n",
       "      <td>Independent</td>\n",
       "      <td>Male</td>\n",
       "      <td>0.407080</td>\n",
       "      <td>0.041991</td>\n",
       "    </tr>\n",
       "    <tr>\n",
       "      <td>21</td>\n",
       "      <td>0.118175</td>\n",
       "      <td>party</td>\n",
       "      <td>gender</td>\n",
       "      <td>Independent</td>\n",
       "      <td>Female</td>\n",
       "      <td>0.617021</td>\n",
       "      <td>0.067955</td>\n",
       "    </tr>\n",
       "  </tbody>\n",
       "</table>\n",
       "</div>"
      ],
      "text/plain": [
       "    Electoral_Proportion Demographic_Type_1 Demographic_Type_2 Demographic_1  \\\n",
       "16              0.172988              party             gender      Democrat   \n",
       "17              0.214940              party             gender      Democrat   \n",
       "18              0.177831              party             gender    Republican   \n",
       "19              0.220957              party             gender    Republican   \n",
       "20              0.095110              party             gender   Independent   \n",
       "21              0.118175              party             gender   Independent   \n",
       "\n",
       "   Demographic_2  Hillary %     Final  \n",
       "16          Male   0.918033  0.138230  \n",
       "17        Female   0.954248  0.226496  \n",
       "18          Male   0.070707  0.013590  \n",
       "19        Female   0.072072  0.014889  \n",
       "20          Male   0.407080  0.041991  \n",
       "21        Female   0.617021  0.067955  "
      ]
     },
     "execution_count": 50,
     "metadata": {},
     "output_type": "execute_result"
    }
   ],
   "source": [
    "df_double_marginal"
   ]
  },
  {
   "cell_type": "code",
   "execution_count": 51,
   "metadata": {},
   "outputs": [],
   "source": [
    "#multiply voting percent and new joint population proportion to get weighted avergae for each pair\n",
    "df_double_marginal['Final'] = df_double_marginal['Electoral_Proportion']*df_double_marginal['Hillary %']"
   ]
  },
  {
   "cell_type": "code",
   "execution_count": 52,
   "metadata": {},
   "outputs": [
    {
     "data": {
      "text/html": [
       "<div>\n",
       "<style scoped>\n",
       "    .dataframe tbody tr th:only-of-type {\n",
       "        vertical-align: middle;\n",
       "    }\n",
       "\n",
       "    .dataframe tbody tr th {\n",
       "        vertical-align: top;\n",
       "    }\n",
       "\n",
       "    .dataframe thead th {\n",
       "        text-align: right;\n",
       "    }\n",
       "</style>\n",
       "<table border=\"1\" class=\"dataframe\">\n",
       "  <thead>\n",
       "    <tr style=\"text-align: right;\">\n",
       "      <th></th>\n",
       "      <th>Electoral_Proportion</th>\n",
       "      <th>Demographic_Type_1</th>\n",
       "      <th>Demographic_Type_2</th>\n",
       "      <th>Demographic_1</th>\n",
       "      <th>Demographic_2</th>\n",
       "      <th>Hillary %</th>\n",
       "      <th>Final</th>\n",
       "    </tr>\n",
       "  </thead>\n",
       "  <tbody>\n",
       "    <tr>\n",
       "      <td>16</td>\n",
       "      <td>0.172988</td>\n",
       "      <td>party</td>\n",
       "      <td>gender</td>\n",
       "      <td>Democrat</td>\n",
       "      <td>Male</td>\n",
       "      <td>0.918033</td>\n",
       "      <td>0.158808</td>\n",
       "    </tr>\n",
       "    <tr>\n",
       "      <td>17</td>\n",
       "      <td>0.214940</td>\n",
       "      <td>party</td>\n",
       "      <td>gender</td>\n",
       "      <td>Democrat</td>\n",
       "      <td>Female</td>\n",
       "      <td>0.954248</td>\n",
       "      <td>0.205106</td>\n",
       "    </tr>\n",
       "    <tr>\n",
       "      <td>18</td>\n",
       "      <td>0.177831</td>\n",
       "      <td>party</td>\n",
       "      <td>gender</td>\n",
       "      <td>Republican</td>\n",
       "      <td>Male</td>\n",
       "      <td>0.070707</td>\n",
       "      <td>0.012574</td>\n",
       "    </tr>\n",
       "    <tr>\n",
       "      <td>19</td>\n",
       "      <td>0.220957</td>\n",
       "      <td>party</td>\n",
       "      <td>gender</td>\n",
       "      <td>Republican</td>\n",
       "      <td>Female</td>\n",
       "      <td>0.072072</td>\n",
       "      <td>0.015925</td>\n",
       "    </tr>\n",
       "    <tr>\n",
       "      <td>20</td>\n",
       "      <td>0.095110</td>\n",
       "      <td>party</td>\n",
       "      <td>gender</td>\n",
       "      <td>Independent</td>\n",
       "      <td>Male</td>\n",
       "      <td>0.407080</td>\n",
       "      <td>0.038717</td>\n",
       "    </tr>\n",
       "    <tr>\n",
       "      <td>21</td>\n",
       "      <td>0.118175</td>\n",
       "      <td>party</td>\n",
       "      <td>gender</td>\n",
       "      <td>Independent</td>\n",
       "      <td>Female</td>\n",
       "      <td>0.617021</td>\n",
       "      <td>0.072917</td>\n",
       "    </tr>\n",
       "  </tbody>\n",
       "</table>\n",
       "</div>"
      ],
      "text/plain": [
       "    Electoral_Proportion Demographic_Type_1 Demographic_Type_2 Demographic_1  \\\n",
       "16              0.172988              party             gender      Democrat   \n",
       "17              0.214940              party             gender      Democrat   \n",
       "18              0.177831              party             gender    Republican   \n",
       "19              0.220957              party             gender    Republican   \n",
       "20              0.095110              party             gender   Independent   \n",
       "21              0.118175              party             gender   Independent   \n",
       "\n",
       "   Demographic_2  Hillary %     Final  \n",
       "16          Male   0.918033  0.158808  \n",
       "17        Female   0.954248  0.205106  \n",
       "18          Male   0.070707  0.012574  \n",
       "19        Female   0.072072  0.015925  \n",
       "20          Male   0.407080  0.038717  \n",
       "21        Female   0.617021  0.072917  "
      ]
     },
     "execution_count": 52,
     "metadata": {},
     "output_type": "execute_result"
    }
   ],
   "source": [
    "df_double_marginal"
   ]
  },
  {
   "cell_type": "code",
   "execution_count": 53,
   "metadata": {},
   "outputs": [],
   "source": [
    "partygender_avg = 100*(round(df_double_marginal['Final'].sum(), 6))"
   ]
  },
  {
   "cell_type": "code",
   "execution_count": 54,
   "metadata": {},
   "outputs": [
    {
     "name": "stdout",
     "output_type": "stream",
     "text": [
      "Weighted polling averag by party x gender 2-D marginal (mulitplying distributions) =  50.404700000000005 %\n",
      "Weighted polling averag by party x gender 2-D marginal (pre given joint distributions) =  50.31506599886879 %\n"
     ]
    }
   ],
   "source": [
    "print('Weighted polling averag by party x gender 2-D marginal (mulitplying distributions) = ', partygender_avg, '%')\n",
    "print('Weighted polling averag by party x gender 2-D marginal (pre given joint distributions) = ', final_df_double[final_df_double['index'] == ('party', 'gender')]['Weighted Poll (% Hillary)'][0], '%')"
   ]
  },
  {
   "cell_type": "markdown",
   "metadata": {},
   "source": [
    "#### (race, gender)"
   ]
  },
  {
   "cell_type": "code",
   "execution_count": 55,
   "metadata": {},
   "outputs": [],
   "source": [
    "og2_weight_avg = final_results_dub[('gender', 'race')]"
   ]
  },
  {
   "cell_type": "code",
   "execution_count": 56,
   "metadata": {},
   "outputs": [],
   "source": [
    "df_lookup = demographic_groups[(demographic_groups['Demographic_Type_1']=='race') | (demographic_groups['Demographic_Type_1'] == 'gender')].copy(deep=True)"
   ]
  },
  {
   "cell_type": "code",
   "execution_count": 57,
   "metadata": {},
   "outputs": [
    {
     "data": {
      "text/html": [
       "<div>\n",
       "<style scoped>\n",
       "    .dataframe tbody tr th:only-of-type {\n",
       "        vertical-align: middle;\n",
       "    }\n",
       "\n",
       "    .dataframe tbody tr th {\n",
       "        vertical-align: top;\n",
       "    }\n",
       "\n",
       "    .dataframe thead th {\n",
       "        text-align: right;\n",
       "    }\n",
       "</style>\n",
       "<table border=\"1\" class=\"dataframe\">\n",
       "  <thead>\n",
       "    <tr style=\"text-align: right;\">\n",
       "      <th></th>\n",
       "      <th>Electoral_Proportion</th>\n",
       "      <th>Demographic_Type_1</th>\n",
       "      <th>Demographic_Type_2</th>\n",
       "      <th>Demographic_1</th>\n",
       "      <th>Demographic_2</th>\n",
       "      <th>Hillary %</th>\n",
       "      <th>Final</th>\n",
       "    </tr>\n",
       "  </thead>\n",
       "  <tbody>\n",
       "    <tr>\n",
       "      <td>3</td>\n",
       "      <td>0.445928</td>\n",
       "      <td>gender</td>\n",
       "      <td>NaN</td>\n",
       "      <td>Male</td>\n",
       "      <td>NaN</td>\n",
       "      <td>0.494012</td>\n",
       "      <td>0.220294</td>\n",
       "    </tr>\n",
       "    <tr>\n",
       "      <td>4</td>\n",
       "      <td>0.554072</td>\n",
       "      <td>gender</td>\n",
       "      <td>NaN</td>\n",
       "      <td>Female</td>\n",
       "      <td>NaN</td>\n",
       "      <td>0.592179</td>\n",
       "      <td>0.328110</td>\n",
       "    </tr>\n",
       "    <tr>\n",
       "      <td>9</td>\n",
       "      <td>0.697968</td>\n",
       "      <td>race</td>\n",
       "      <td>NaN</td>\n",
       "      <td>White</td>\n",
       "      <td>NaN</td>\n",
       "      <td>0.395034</td>\n",
       "      <td>0.275721</td>\n",
       "    </tr>\n",
       "    <tr>\n",
       "      <td>10</td>\n",
       "      <td>0.135672</td>\n",
       "      <td>race</td>\n",
       "      <td>NaN</td>\n",
       "      <td>Black</td>\n",
       "      <td>NaN</td>\n",
       "      <td>0.937500</td>\n",
       "      <td>0.127192</td>\n",
       "    </tr>\n",
       "    <tr>\n",
       "      <td>11</td>\n",
       "      <td>0.129719</td>\n",
       "      <td>race</td>\n",
       "      <td>NaN</td>\n",
       "      <td>Hispanic</td>\n",
       "      <td>NaN</td>\n",
       "      <td>0.771429</td>\n",
       "      <td>0.100069</td>\n",
       "    </tr>\n",
       "    <tr>\n",
       "      <td>12</td>\n",
       "      <td>0.036641</td>\n",
       "      <td>race</td>\n",
       "      <td>NaN</td>\n",
       "      <td>Other</td>\n",
       "      <td>NaN</td>\n",
       "      <td>0.655172</td>\n",
       "      <td>0.024006</td>\n",
       "    </tr>\n",
       "  </tbody>\n",
       "</table>\n",
       "</div>"
      ],
      "text/plain": [
       "    Electoral_Proportion Demographic_Type_1 Demographic_Type_2 Demographic_1  \\\n",
       "3               0.445928             gender                NaN          Male   \n",
       "4               0.554072             gender                NaN        Female   \n",
       "9               0.697968               race                NaN         White   \n",
       "10              0.135672               race                NaN         Black   \n",
       "11              0.129719               race                NaN      Hispanic   \n",
       "12              0.036641               race                NaN         Other   \n",
       "\n",
       "   Demographic_2  Hillary %     Final  \n",
       "3            NaN   0.494012  0.220294  \n",
       "4            NaN   0.592179  0.328110  \n",
       "9            NaN   0.395034  0.275721  \n",
       "10           NaN   0.937500  0.127192  \n",
       "11           NaN   0.771429  0.100069  \n",
       "12           NaN   0.655172  0.024006  "
      ]
     },
     "execution_count": 57,
     "metadata": {},
     "output_type": "execute_result"
    }
   ],
   "source": [
    "df_lookup"
   ]
  },
  {
   "cell_type": "code",
   "execution_count": 58,
   "metadata": {},
   "outputs": [],
   "source": [
    "marginal_ds2 = {}\n",
    "#create dictionary\n",
    "for row in range(df_lookup.shape[0]):\n",
    "    marginal_ds2[df_lookup['Demographic_1'].iloc[row]] = df_lookup['Electoral_Proportion'].iloc[row]"
   ]
  },
  {
   "cell_type": "code",
   "execution_count": 59,
   "metadata": {},
   "outputs": [
    {
     "data": {
      "text/plain": [
       "{'Male': 0.44592792646053503,\n",
       " 'Female': 0.554072073539465,\n",
       " 'White': 0.6979683793604979,\n",
       " 'Black': 0.13567183678900302,\n",
       " 'Hispanic': 0.12971895058981098,\n",
       " 'Other': 0.036640833260687004}"
      ]
     },
     "execution_count": 59,
     "metadata": {},
     "output_type": "execute_result"
    }
   ],
   "source": [
    "marginal_ds2"
   ]
  },
  {
   "cell_type": "code",
   "execution_count": 60,
   "metadata": {},
   "outputs": [],
   "source": [
    "gendered2 = dict(list(marginal_ds2.items())[0:2])\n",
    "race = dict(list(marginal_ds2.items())[2:6])"
   ]
  },
  {
   "cell_type": "code",
   "execution_count": 61,
   "metadata": {},
   "outputs": [],
   "source": [
    "import itertools\n",
    "permut2 = itertools.permutations(list(race.keys()), len(list(gendered2.keys())))\n",
    "unique_combs = []\n",
    "for comb in permut2:\n",
    "    zipped = zip(comb, gendered2.keys())\n",
    "    for i in list(zipped):\n",
    "        if i not in unique_combs:\n",
    "            unique_combs.append(i)\n"
   ]
  },
  {
   "cell_type": "code",
   "execution_count": 62,
   "metadata": {},
   "outputs": [
    {
     "data": {
      "text/plain": [
       "[('White', 'Male'),\n",
       " ('Black', 'Female'),\n",
       " ('Hispanic', 'Female'),\n",
       " ('Other', 'Female'),\n",
       " ('Black', 'Male'),\n",
       " ('White', 'Female'),\n",
       " ('Hispanic', 'Male'),\n",
       " ('Other', 'Male')]"
      ]
     },
     "execution_count": 62,
     "metadata": {},
     "output_type": "execute_result"
    }
   ],
   "source": [
    "unique_combs"
   ]
  },
  {
   "cell_type": "code",
   "execution_count": 63,
   "metadata": {},
   "outputs": [],
   "source": [
    "marginal_ds2_calc = {}\n",
    "for pair in unique_combs:\n",
    "#     print(pair[0], marginal_ds2[pair[0]])\n",
    "#     print(pair[1], marginal_ds2[pair[1]])\n",
    "    marginal_ds2_calc[pair] = marginal_ds2[pair[0]] * marginal_ds2[pair[1]]"
   ]
  },
  {
   "cell_type": "code",
   "execution_count": 64,
   "metadata": {},
   "outputs": [
    {
     "data": {
      "text/plain": [
       "{('White', 'Male'): 0.3112435921432469,\n",
       " ('Black', 'Female'): 0.07517197593059077,\n",
       " ('Hispanic', 'Female'): 0.07187364793065996,\n",
       " ('Other', 'Female'): 0.020301662460962645,\n",
       " ('Black', 'Male'): 0.06049986085841225,\n",
       " ('White', 'Female'): 0.386724787217251,\n",
       " ('Hispanic', 'Male'): 0.057845302659151006,\n",
       " ('Other', 'Male'): 0.01633917079972436}"
      ]
     },
     "execution_count": 64,
     "metadata": {},
     "output_type": "execute_result"
    }
   ],
   "source": [
    "marginal_ds2_calc"
   ]
  },
  {
   "cell_type": "code",
   "execution_count": 65,
   "metadata": {},
   "outputs": [
    {
     "data": {
      "text/html": [
       "<div>\n",
       "<style scoped>\n",
       "    .dataframe tbody tr th:only-of-type {\n",
       "        vertical-align: middle;\n",
       "    }\n",
       "\n",
       "    .dataframe tbody tr th {\n",
       "        vertical-align: top;\n",
       "    }\n",
       "\n",
       "    .dataframe thead th {\n",
       "        text-align: right;\n",
       "    }\n",
       "</style>\n",
       "<table border=\"1\" class=\"dataframe\">\n",
       "  <thead>\n",
       "    <tr style=\"text-align: right;\">\n",
       "      <th></th>\n",
       "      <th>Electoral_Proportion</th>\n",
       "      <th>Demographic_Type_1</th>\n",
       "      <th>Demographic_Type_2</th>\n",
       "      <th>Demographic_1</th>\n",
       "      <th>Demographic_2</th>\n",
       "      <th>Hillary %</th>\n",
       "      <th>Final</th>\n",
       "    </tr>\n",
       "  </thead>\n",
       "  <tbody>\n",
       "    <tr>\n",
       "      <td>63</td>\n",
       "      <td>0.322556</td>\n",
       "      <td>gender</td>\n",
       "      <td>race</td>\n",
       "      <td>Male</td>\n",
       "      <td>White</td>\n",
       "      <td>0.323383</td>\n",
       "      <td>0.104309</td>\n",
       "    </tr>\n",
       "    <tr>\n",
       "      <td>64</td>\n",
       "      <td>0.051276</td>\n",
       "      <td>gender</td>\n",
       "      <td>race</td>\n",
       "      <td>Male</td>\n",
       "      <td>Black</td>\n",
       "      <td>0.878049</td>\n",
       "      <td>0.045022</td>\n",
       "    </tr>\n",
       "    <tr>\n",
       "      <td>65</td>\n",
       "      <td>0.055765</td>\n",
       "      <td>gender</td>\n",
       "      <td>race</td>\n",
       "      <td>Male</td>\n",
       "      <td>Hispanic</td>\n",
       "      <td>0.696203</td>\n",
       "      <td>0.038824</td>\n",
       "    </tr>\n",
       "    <tr>\n",
       "      <td>66</td>\n",
       "      <td>0.016331</td>\n",
       "      <td>gender</td>\n",
       "      <td>race</td>\n",
       "      <td>Male</td>\n",
       "      <td>Other</td>\n",
       "      <td>0.692308</td>\n",
       "      <td>0.011306</td>\n",
       "    </tr>\n",
       "    <tr>\n",
       "      <td>67</td>\n",
       "      <td>0.375412</td>\n",
       "      <td>gender</td>\n",
       "      <td>race</td>\n",
       "      <td>Female</td>\n",
       "      <td>White</td>\n",
       "      <td>0.454545</td>\n",
       "      <td>0.170642</td>\n",
       "    </tr>\n",
       "    <tr>\n",
       "      <td>68</td>\n",
       "      <td>0.084396</td>\n",
       "      <td>gender</td>\n",
       "      <td>race</td>\n",
       "      <td>Female</td>\n",
       "      <td>Black</td>\n",
       "      <td>1.000000</td>\n",
       "      <td>0.084396</td>\n",
       "    </tr>\n",
       "    <tr>\n",
       "      <td>69</td>\n",
       "      <td>0.073954</td>\n",
       "      <td>gender</td>\n",
       "      <td>race</td>\n",
       "      <td>Female</td>\n",
       "      <td>Hispanic</td>\n",
       "      <td>0.868852</td>\n",
       "      <td>0.064255</td>\n",
       "    </tr>\n",
       "    <tr>\n",
       "      <td>70</td>\n",
       "      <td>0.020309</td>\n",
       "      <td>gender</td>\n",
       "      <td>race</td>\n",
       "      <td>Female</td>\n",
       "      <td>Other</td>\n",
       "      <td>0.625000</td>\n",
       "      <td>0.012693</td>\n",
       "    </tr>\n",
       "  </tbody>\n",
       "</table>\n",
       "</div>"
      ],
      "text/plain": [
       "    Electoral_Proportion Demographic_Type_1 Demographic_Type_2 Demographic_1  \\\n",
       "63              0.322556             gender               race          Male   \n",
       "64              0.051276             gender               race          Male   \n",
       "65              0.055765             gender               race          Male   \n",
       "66              0.016331             gender               race          Male   \n",
       "67              0.375412             gender               race        Female   \n",
       "68              0.084396             gender               race        Female   \n",
       "69              0.073954             gender               race        Female   \n",
       "70              0.020309             gender               race        Female   \n",
       "\n",
       "   Demographic_2  Hillary %     Final  \n",
       "63         White   0.323383  0.104309  \n",
       "64         Black   0.878049  0.045022  \n",
       "65      Hispanic   0.696203  0.038824  \n",
       "66         Other   0.692308  0.011306  \n",
       "67         White   0.454545  0.170642  \n",
       "68         Black   1.000000  0.084396  \n",
       "69      Hispanic   0.868852  0.064255  \n",
       "70         Other   0.625000  0.012693  "
      ]
     },
     "execution_count": 65,
     "metadata": {},
     "output_type": "execute_result"
    }
   ],
   "source": [
    "# df_double_marginal2 =df_double[(df_double['Dem Cat 1']=='gender') & (df_double['Dem Cat 2']=='race')].copy(deep=True)\n",
    "# df_double_marginal2\n",
    "\n",
    "df_double_marginal2 =demographic_groups2[(demographic_groups2['Demographic_Type_1']=='gender') & (demographic_groups2['Demographic_Type_2']=='race')].copy(deep=True)\n",
    "df_double_marginal2\n",
    "#replace electoral pro with new marginal calculations, and multiply again by hillary %"
   ]
  },
  {
   "cell_type": "code",
   "execution_count": 66,
   "metadata": {},
   "outputs": [],
   "source": [
    "for row in range(df_double_marginal2.shape[0]):\n",
    "    for key, val in marginal_ds2_calc.items():\n",
    "        if (df_double_marginal2['Demographic_1'].iloc[row] == key[1]) and (df_double_marginal2['Demographic_2'].iloc[row] == key[0]):\n",
    "            df_double_marginal2['Electoral_Proportion'].iloc[row] = val"
   ]
  },
  {
   "cell_type": "code",
   "execution_count": 67,
   "metadata": {},
   "outputs": [
    {
     "data": {
      "text/html": [
       "<div>\n",
       "<style scoped>\n",
       "    .dataframe tbody tr th:only-of-type {\n",
       "        vertical-align: middle;\n",
       "    }\n",
       "\n",
       "    .dataframe tbody tr th {\n",
       "        vertical-align: top;\n",
       "    }\n",
       "\n",
       "    .dataframe thead th {\n",
       "        text-align: right;\n",
       "    }\n",
       "</style>\n",
       "<table border=\"1\" class=\"dataframe\">\n",
       "  <thead>\n",
       "    <tr style=\"text-align: right;\">\n",
       "      <th></th>\n",
       "      <th>Electoral_Proportion</th>\n",
       "      <th>Demographic_Type_1</th>\n",
       "      <th>Demographic_Type_2</th>\n",
       "      <th>Demographic_1</th>\n",
       "      <th>Demographic_2</th>\n",
       "      <th>Hillary %</th>\n",
       "      <th>Final</th>\n",
       "    </tr>\n",
       "  </thead>\n",
       "  <tbody>\n",
       "    <tr>\n",
       "      <td>63</td>\n",
       "      <td>0.311244</td>\n",
       "      <td>gender</td>\n",
       "      <td>race</td>\n",
       "      <td>Male</td>\n",
       "      <td>White</td>\n",
       "      <td>0.323383</td>\n",
       "      <td>0.104309</td>\n",
       "    </tr>\n",
       "    <tr>\n",
       "      <td>64</td>\n",
       "      <td>0.060500</td>\n",
       "      <td>gender</td>\n",
       "      <td>race</td>\n",
       "      <td>Male</td>\n",
       "      <td>Black</td>\n",
       "      <td>0.878049</td>\n",
       "      <td>0.045022</td>\n",
       "    </tr>\n",
       "    <tr>\n",
       "      <td>65</td>\n",
       "      <td>0.057845</td>\n",
       "      <td>gender</td>\n",
       "      <td>race</td>\n",
       "      <td>Male</td>\n",
       "      <td>Hispanic</td>\n",
       "      <td>0.696203</td>\n",
       "      <td>0.038824</td>\n",
       "    </tr>\n",
       "    <tr>\n",
       "      <td>66</td>\n",
       "      <td>0.016339</td>\n",
       "      <td>gender</td>\n",
       "      <td>race</td>\n",
       "      <td>Male</td>\n",
       "      <td>Other</td>\n",
       "      <td>0.692308</td>\n",
       "      <td>0.011306</td>\n",
       "    </tr>\n",
       "    <tr>\n",
       "      <td>67</td>\n",
       "      <td>0.386725</td>\n",
       "      <td>gender</td>\n",
       "      <td>race</td>\n",
       "      <td>Female</td>\n",
       "      <td>White</td>\n",
       "      <td>0.454545</td>\n",
       "      <td>0.170642</td>\n",
       "    </tr>\n",
       "    <tr>\n",
       "      <td>68</td>\n",
       "      <td>0.075172</td>\n",
       "      <td>gender</td>\n",
       "      <td>race</td>\n",
       "      <td>Female</td>\n",
       "      <td>Black</td>\n",
       "      <td>1.000000</td>\n",
       "      <td>0.084396</td>\n",
       "    </tr>\n",
       "    <tr>\n",
       "      <td>69</td>\n",
       "      <td>0.071874</td>\n",
       "      <td>gender</td>\n",
       "      <td>race</td>\n",
       "      <td>Female</td>\n",
       "      <td>Hispanic</td>\n",
       "      <td>0.868852</td>\n",
       "      <td>0.064255</td>\n",
       "    </tr>\n",
       "    <tr>\n",
       "      <td>70</td>\n",
       "      <td>0.020302</td>\n",
       "      <td>gender</td>\n",
       "      <td>race</td>\n",
       "      <td>Female</td>\n",
       "      <td>Other</td>\n",
       "      <td>0.625000</td>\n",
       "      <td>0.012693</td>\n",
       "    </tr>\n",
       "  </tbody>\n",
       "</table>\n",
       "</div>"
      ],
      "text/plain": [
       "    Electoral_Proportion Demographic_Type_1 Demographic_Type_2 Demographic_1  \\\n",
       "63              0.311244             gender               race          Male   \n",
       "64              0.060500             gender               race          Male   \n",
       "65              0.057845             gender               race          Male   \n",
       "66              0.016339             gender               race          Male   \n",
       "67              0.386725             gender               race        Female   \n",
       "68              0.075172             gender               race        Female   \n",
       "69              0.071874             gender               race        Female   \n",
       "70              0.020302             gender               race        Female   \n",
       "\n",
       "   Demographic_2  Hillary %     Final  \n",
       "63         White   0.323383  0.104309  \n",
       "64         Black   0.878049  0.045022  \n",
       "65      Hispanic   0.696203  0.038824  \n",
       "66         Other   0.692308  0.011306  \n",
       "67         White   0.454545  0.170642  \n",
       "68         Black   1.000000  0.084396  \n",
       "69      Hispanic   0.868852  0.064255  \n",
       "70         Other   0.625000  0.012693  "
      ]
     },
     "execution_count": 67,
     "metadata": {},
     "output_type": "execute_result"
    }
   ],
   "source": [
    "df_double_marginal2"
   ]
  },
  {
   "cell_type": "code",
   "execution_count": 68,
   "metadata": {},
   "outputs": [],
   "source": [
    "#multiply voting percent for each pair of demographics by new joint pop proprtion to get weighted average\n",
    "df_double_marginal2['Final'] = df_double_marginal2['Electoral_Proportion']*df_double_marginal2['Hillary %']"
   ]
  },
  {
   "cell_type": "code",
   "execution_count": 69,
   "metadata": {},
   "outputs": [
    {
     "data": {
      "text/html": [
       "<div>\n",
       "<style scoped>\n",
       "    .dataframe tbody tr th:only-of-type {\n",
       "        vertical-align: middle;\n",
       "    }\n",
       "\n",
       "    .dataframe tbody tr th {\n",
       "        vertical-align: top;\n",
       "    }\n",
       "\n",
       "    .dataframe thead th {\n",
       "        text-align: right;\n",
       "    }\n",
       "</style>\n",
       "<table border=\"1\" class=\"dataframe\">\n",
       "  <thead>\n",
       "    <tr style=\"text-align: right;\">\n",
       "      <th></th>\n",
       "      <th>Electoral_Proportion</th>\n",
       "      <th>Demographic_Type_1</th>\n",
       "      <th>Demographic_Type_2</th>\n",
       "      <th>Demographic_1</th>\n",
       "      <th>Demographic_2</th>\n",
       "      <th>Hillary %</th>\n",
       "      <th>Final</th>\n",
       "    </tr>\n",
       "  </thead>\n",
       "  <tbody>\n",
       "    <tr>\n",
       "      <td>63</td>\n",
       "      <td>0.311244</td>\n",
       "      <td>gender</td>\n",
       "      <td>race</td>\n",
       "      <td>Male</td>\n",
       "      <td>White</td>\n",
       "      <td>0.323383</td>\n",
       "      <td>0.100651</td>\n",
       "    </tr>\n",
       "    <tr>\n",
       "      <td>64</td>\n",
       "      <td>0.060500</td>\n",
       "      <td>gender</td>\n",
       "      <td>race</td>\n",
       "      <td>Male</td>\n",
       "      <td>Black</td>\n",
       "      <td>0.878049</td>\n",
       "      <td>0.053122</td>\n",
       "    </tr>\n",
       "    <tr>\n",
       "      <td>65</td>\n",
       "      <td>0.057845</td>\n",
       "      <td>gender</td>\n",
       "      <td>race</td>\n",
       "      <td>Male</td>\n",
       "      <td>Hispanic</td>\n",
       "      <td>0.696203</td>\n",
       "      <td>0.040272</td>\n",
       "    </tr>\n",
       "    <tr>\n",
       "      <td>66</td>\n",
       "      <td>0.016339</td>\n",
       "      <td>gender</td>\n",
       "      <td>race</td>\n",
       "      <td>Male</td>\n",
       "      <td>Other</td>\n",
       "      <td>0.692308</td>\n",
       "      <td>0.011312</td>\n",
       "    </tr>\n",
       "    <tr>\n",
       "      <td>67</td>\n",
       "      <td>0.386725</td>\n",
       "      <td>gender</td>\n",
       "      <td>race</td>\n",
       "      <td>Female</td>\n",
       "      <td>White</td>\n",
       "      <td>0.454545</td>\n",
       "      <td>0.175784</td>\n",
       "    </tr>\n",
       "    <tr>\n",
       "      <td>68</td>\n",
       "      <td>0.075172</td>\n",
       "      <td>gender</td>\n",
       "      <td>race</td>\n",
       "      <td>Female</td>\n",
       "      <td>Black</td>\n",
       "      <td>1.000000</td>\n",
       "      <td>0.075172</td>\n",
       "    </tr>\n",
       "    <tr>\n",
       "      <td>69</td>\n",
       "      <td>0.071874</td>\n",
       "      <td>gender</td>\n",
       "      <td>race</td>\n",
       "      <td>Female</td>\n",
       "      <td>Hispanic</td>\n",
       "      <td>0.868852</td>\n",
       "      <td>0.062448</td>\n",
       "    </tr>\n",
       "    <tr>\n",
       "      <td>70</td>\n",
       "      <td>0.020302</td>\n",
       "      <td>gender</td>\n",
       "      <td>race</td>\n",
       "      <td>Female</td>\n",
       "      <td>Other</td>\n",
       "      <td>0.625000</td>\n",
       "      <td>0.012689</td>\n",
       "    </tr>\n",
       "  </tbody>\n",
       "</table>\n",
       "</div>"
      ],
      "text/plain": [
       "    Electoral_Proportion Demographic_Type_1 Demographic_Type_2 Demographic_1  \\\n",
       "63              0.311244             gender               race          Male   \n",
       "64              0.060500             gender               race          Male   \n",
       "65              0.057845             gender               race          Male   \n",
       "66              0.016339             gender               race          Male   \n",
       "67              0.386725             gender               race        Female   \n",
       "68              0.075172             gender               race        Female   \n",
       "69              0.071874             gender               race        Female   \n",
       "70              0.020302             gender               race        Female   \n",
       "\n",
       "   Demographic_2  Hillary %     Final  \n",
       "63         White   0.323383  0.100651  \n",
       "64         Black   0.878049  0.053122  \n",
       "65      Hispanic   0.696203  0.040272  \n",
       "66         Other   0.692308  0.011312  \n",
       "67         White   0.454545  0.175784  \n",
       "68         Black   1.000000  0.075172  \n",
       "69      Hispanic   0.868852  0.062448  \n",
       "70         Other   0.625000  0.012689  "
      ]
     },
     "execution_count": 69,
     "metadata": {},
     "output_type": "execute_result"
    }
   ],
   "source": [
    "df_double_marginal2"
   ]
  },
  {
   "cell_type": "code",
   "execution_count": 70,
   "metadata": {},
   "outputs": [],
   "source": [
    "racegender_avg = round(100*df_double_marginal2['Final'].sum(), 4)"
   ]
  },
  {
   "cell_type": "code",
   "execution_count": 71,
   "metadata": {},
   "outputs": [
    {
     "name": "stdout",
     "output_type": "stream",
     "text": [
      "Weighted polling averag by race x gender 2-D marginal (mulitplying distributions) =  53.1449 %\n",
      "Weighted polling averag by race x gender 2-D marginal (pre given joint distributions) =  53.1448 %\n"
     ]
    }
   ],
   "source": [
    "print('Weighted polling averag by race x gender 2-D marginal (mulitplying distributions) = ', racegender_avg, '%')\n",
    "print('Weighted polling averag by race x gender 2-D marginal (pre given joint distributions) = ', round(final_df_double[final_df_double['index'] == ('gender', 'race')]['Weighted Poll (% Hillary)'][5],4), '%')"
   ]
  },
  {
   "cell_type": "markdown",
   "metadata": {},
   "source": [
    "### 4) Bonus points (up to 6 points): Implement a \"cheap\" version of the MRP technique mentioned in class.\n",
    "\n",
    "<font color='blue'> The above techniques use the mean answer among people who share a demographic as the estimate for that demographic. But that wastes information _across_ demographics. For example, maybe people who only have \"Some College\" are similar enough to people who have \"High School\" as to provide some useful information. \n",
    "\n",
    "First, do the following: use a logistic regression (or your favorite prediction tool) to predict candidate choice, using the demographics. You might want to convert some demographics (like education) to ordered numeric (e.g., 1, 2, 3) as opposed to using discrete categories. \n",
    "\n",
    "Here, you will earn partial bonus points by just reporting the predictions and comparing them to the means of each covariate group in the raw polling data. Give a scatter-plot, where each point is one combination of full demographics (age, gender, party, race/ethnicity, education), the X axis is the raw polling average for that combination, and the Y axis is your regression prediction for that combination.   \n",
    "\n",
    "Then, once you have predictions for each set of covariates, \"post-stratify\" to get a single population estimate by plugging them into the above weighting techniques, where you use the predictions instead of the raw averages in that cell. Report the resulting estimates if you do the 2-dimensional joint weighting (on every pair).\n",
    "\n"
   ]
  },
  {
   "cell_type": "markdown",
   "metadata": {},
   "source": [
    "creates a line to fit dfpoll: aiming to look at new parameters calculatated from log regression"
   ]
  },
  {
   "cell_type": "code",
   "execution_count": 72,
   "metadata": {},
   "outputs": [],
   "source": [
    "#log regression; convert demographic categories to ordinal (0 to X)"
   ]
  },
  {
   "cell_type": "code",
   "execution_count": 73,
   "metadata": {},
   "outputs": [],
   "source": [
    "#scatter plot: datapt = combo of different demographics, x = polling avg prediction, y = hillary or clinton?"
   ]
  },
  {
   "cell_type": "code",
   "execution_count": 74,
   "metadata": {},
   "outputs": [],
   "source": [
    "#post stratify? to get one population estimate using weighting techniques using predicted averages (NOT raw avgs)\n",
    "#report estimates for every pair of demographics"
   ]
  },
  {
   "cell_type": "markdown",
   "metadata": {},
   "source": [
    "### 5) Bonus points (up to 3 points): Implement full \"raking\" using all the demographic covariates, i.e., match all the marginals without assuming independence, as opposed to just one or two marginal distributions.\n",
    "\n",
    "<font color='blue'> You may use existing python packages, such as [here](https://quantipy.readthedocs.io/en/staging-develop/sites/lib_doc/weights/01_background.html#the-statistical-problem). Another approach would be to use [rpy2](https://rpy2.github.io/doc/latest/html/introduction.html) to call `R`, as there are many well-maintained packages in `R` to analyze polling data. One example is [here](https://www.rdocumentation.org/packages/survey/versions/4.1-1/topics/rake). "
   ]
  },
  {
   "cell_type": "code",
   "execution_count": null,
   "metadata": {},
   "outputs": [],
   "source": []
  },
  {
   "cell_type": "code",
   "execution_count": null,
   "metadata": {},
   "outputs": [],
   "source": []
  },
  {
   "cell_type": "markdown",
   "metadata": {},
   "source": [
    "## Part C: Uncertainty analysis and choices"
   ]
  },
  {
   "cell_type": "markdown",
   "metadata": {},
   "source": [
    "### 1) Education weighting analysis and \"refused\" answers"
   ]
  },
  {
   "cell_type": "markdown",
   "metadata": {},
   "source": [
    "<font color='blue'> i. In Part B, you should notice a discrepancy from what we said in class and the data -- weighting by education does _not_ seem to help much in reducing the polling average from being pro-Clinton. Dig into the data to see why the methods we tried above might not be perfect, and what data you would want (such as demographic joint distribution) to do better. Discuss in 5 sentences or less. Especially convincing would be plots/calculations on what would happen under hypothetical data. \n",
    "\n",
    "Hint: Look at polling average broken up by just education, and then broken up by education and other covariates. Especially helpful may be the following pandas command:\n",
    "\n",
    "`dfpoll.groupby(['education', ...])['candidate'].value_counts(normalize = True)`\n",
    "\n",
    "where ... is replaced by other columns\n",
    "\n",
    "\n",
    "<font color='black'> The methods we tried might not be perfect because we are overlooking important discrepancies in our dataset, especially related to the votes of those who are listed as Refused in party, race, and education demographics. These voters are less likely to vote for Hillary, more likely to vote for Trump, but most likely to vote for neither Trump or Hillary. This important fact is currently unaccounted for in our methods and should be accounted for in order to capture the true weighted polling averages across party, race and education. For a large portion of these demographic groups, the polling results we used in our methods to estimate final polling averages only comes from a select group of voter types; we are missing data that should be included to account for the uncertainty that is being ignored in our methods right now. We can focus particularly on those voters who reported Refused for party, race and gender categories- or those who voted 'do not know' or 'someone else' as candidate- to run a logistic regression model and try to use other features of the voter (location, employment type, etc.) to predict who they will vote for, even if they reported that they do not know themselves. This could help us quantify our uncertainty in a loose way, and then we can then incorporate it into our methods to try to accurately predict final polling average. Having data that is more representative of our true population would help our estimates be more accurate."
   ]
  },
  {
   "cell_type": "code",
   "execution_count": 118,
   "metadata": {},
   "outputs": [
    {
     "name": "stdout",
     "output_type": "stream",
     "text": [
      "The demographics below all have a \"Refused\" category:\n",
      "party\n",
      "race\n",
      "education\n"
     ]
    }
   ],
   "source": [
    "print('The demographics below all have a \"Refused\" category:')\n",
    "for i in ['party', 'race', 'gender', 'education']:\n",
    "    for j in dfpoll[i].unique():\n",
    "        if j == 'Refused':\n",
    "            print(i)"
   ]
  },
  {
   "cell_type": "markdown",
   "metadata": {},
   "source": [
    "First, I check to see the distribution of votes of people who went to college:"
   ]
  },
  {
   "cell_type": "code",
   "execution_count": 110,
   "metadata": {},
   "outputs": [
    {
     "data": {
      "text/plain": [
       "<matplotlib.axes._subplots.AxesSubplot at 0x7f9b954c1a90>"
      ]
     },
     "execution_count": 110,
     "metadata": {},
     "output_type": "execute_result"
    },
    {
     "data": {
      "image/png": "[encoded data removed]",
      "text/plain": [
       "<Figure size 432x288 with 1 Axes>"
      ]
     },
     "metadata": {
      "needs_background": "light"
     },
     "output_type": "display_data"
    }
   ],
   "source": [
    "dfpoll.groupby(['education'])['candidate'].value_counts(normalize=True)['College'].plot(x='X',kind='bar')"
   ]
  },
  {
   "cell_type": "code",
   "execution_count": 111,
   "metadata": {},
   "outputs": [
    {
     "data": {
      "text/plain": [
       "<matplotlib.axes._subplots.AxesSubplot at 0x7f9b95e99d90>"
      ]
     },
     "execution_count": 111,
     "metadata": {},
     "output_type": "execute_result"
    },
    {
     "data": {
      "image/png": "[encoded data removed]",
      "text/plain": [
       "<Figure size 432x288 with 1 Axes>"
      ]
     },
     "metadata": {
      "needs_background": "light"
     },
     "output_type": "display_data"
    }
   ],
   "source": [
    "dfpoll.groupby(['education'])['candidate'].value_counts(normalize=True)['Some College'].plot(x='X',kind='bar')"
   ]
  },
  {
   "cell_type": "code",
   "execution_count": 112,
   "metadata": {},
   "outputs": [
    {
     "data": {
      "text/plain": [
       "<matplotlib.axes._subplots.AxesSubplot at 0x7f9b96196590>"
      ]
     },
     "execution_count": 112,
     "metadata": {},
     "output_type": "execute_result"
    },
    {
     "data": {
      "image/png": "[encoded data removed]",
      "text/plain": [
       "<Figure size 432x288 with 1 Axes>"
      ]
     },
     "metadata": {
      "needs_background": "light"
     },
     "output_type": "display_data"
    }
   ],
   "source": [
    "dfpoll.groupby(['education'])['candidate'].value_counts(normalize=True)['High School'].plot(x='X',kind='bar')"
   ]
  },
  {
   "cell_type": "markdown",
   "metadata": {},
   "source": [
    "Clinton is the highest voted for candidate out of all education types. Next, I explore the distribution of votes for those who Refused to report education:"
   ]
  },
  {
   "cell_type": "code",
   "execution_count": 120,
   "metadata": {},
   "outputs": [
    {
     "data": {
      "text/plain": [
       "<matplotlib.axes._subplots.AxesSubplot at 0x7f9b96667d90>"
      ]
     },
     "execution_count": 120,
     "metadata": {},
     "output_type": "execute_result"
    },
    {
     "data": {
      "image/png": "[encoded data removed]",
      "text/plain": [
       "<Figure size 432x288 with 1 Axes>"
      ]
     },
     "metadata": {
      "needs_background": "light"
     },
     "output_type": "display_data"
    }
   ],
   "source": [
    "dfpoll.groupby(['education'])['candidate'].value_counts(normalize=True)['Refused'].plot(x='X',kind='bar')"
   ]
  },
  {
   "cell_type": "markdown",
   "metadata": {},
   "source": [
    "From the plot above we can see that most voters who listed Refused as their education type did not know who to vote for, and voted more for Trump than for Hillary. This shows us that there are confounds in our dataset that will affect the relationship of education and polling result and that might be currently overlooked in our methods throughout this homework (above)."
   ]
  },
  {
   "cell_type": "code",
   "execution_count": 122,
   "metadata": {},
   "outputs": [
    {
     "data": {
      "text/plain": [
       "<matplotlib.axes._subplots.AxesSubplot at 0x7f9b960e2510>"
      ]
     },
     "execution_count": 122,
     "metadata": {},
     "output_type": "execute_result"
    },
    {
     "data": {
      "image/png": "[encoded data removed]",
      "text/plain": [
       "<Figure size 432x288 with 1 Axes>"
      ]
     },
     "metadata": {
      "needs_background": "light"
     },
     "output_type": "display_data"
    }
   ],
   "source": [
    "dfpoll.groupby(['race'])['candidate'].value_counts(normalize=True)['Refused'].plot(x='X',kind='bar')"
   ]
  },
  {
   "cell_type": "markdown",
   "metadata": {},
   "source": [
    "Most voters who have Refused as their recorded race voted for either Trump or neither candidate before voting for Hillary. This follows what we observe above when breaking down voting results within different education types."
   ]
  },
  {
   "cell_type": "code",
   "execution_count": 123,
   "metadata": {},
   "outputs": [
    {
     "data": {
      "text/plain": [
       "<matplotlib.axes._subplots.AxesSubplot at 0x7f9b9611e890>"
      ]
     },
     "execution_count": 123,
     "metadata": {},
     "output_type": "execute_result"
    },
    {
     "data": {
      "image/png": "[encoded data removed]",
      "text/plain": [
       "<Figure size 432x288 with 1 Axes>"
      ]
     },
     "metadata": {
      "needs_background": "light"
     },
     "output_type": "display_data"
    }
   ],
   "source": [
    "dfpoll.groupby(['party'])['candidate'].value_counts(normalize=True)['Refused'].plot(x='X',kind='bar')"
   ]
  },
  {
   "cell_type": "markdown",
   "metadata": {},
   "source": [
    "Voters who have Refused as their party are more likely to vote for either Hillary or neither of the candidates (or not vote at all) before voting for Trump. This differs from what we observed in the above plots showing that most voters with Refused as their race or education are more likely to vote for Trump. "
   ]
  },
  {
   "cell_type": "markdown",
   "metadata": {},
   "source": [
    "Look at polling average broken up by just education, and then broken up by education and other covariates."
   ]
  },
  {
   "cell_type": "code",
   "execution_count": 127,
   "metadata": {},
   "outputs": [
    {
     "data": {
      "text/plain": [
       "<matplotlib.axes._subplots.AxesSubplot at 0x7f9b96cd38d0>"
      ]
     },
     "execution_count": 127,
     "metadata": {},
     "output_type": "execute_result"
    },
    {
     "data": {
      "image/png": "[encoded data removed]",
      "text/plain": [
       "<Figure size 432x288 with 1 Axes>"
      ]
     },
     "metadata": {
      "needs_background": "light"
     },
     "output_type": "display_data"
    }
   ],
   "source": [
    "dfpoll.groupby(['education', 'party'])['candidate'].value_counts(normalize=True)['Refused'].plot(x='X',kind='bar')"
   ]
  },
  {
   "cell_type": "markdown",
   "metadata": {},
   "source": [
    "When breaking down the poll by education and party focusing only on those who have Refused listed as their education, we see that the only loyal Clinton candidates are the Democrats, while other Independent and Refused voters, who could have voted for Hillary, either voted for Trump or did not know who to vote for -- before they even considered not voting for Hillary. This shows that Trump has more support."
   ]
  },
  {
   "cell_type": "code",
   "execution_count": 133,
   "metadata": {},
   "outputs": [
    {
     "data": {
      "text/plain": [
       "<matplotlib.axes._subplots.AxesSubplot at 0x7f9b975f8b90>"
      ]
     },
     "execution_count": 133,
     "metadata": {},
     "output_type": "execute_result"
    },
    {
     "data": {
      "image/png": "[encoded data removed]",
      "text/plain": [
       "<Figure size 432x288 with 1 Axes>"
      ]
     },
     "metadata": {
      "needs_background": "light"
     },
     "output_type": "display_data"
    }
   ],
   "source": [
    "dfpoll.groupby(['education', 'race'])['candidate'].value_counts(normalize=True)['Refused'].plot(x='X',kind='bar')"
   ]
  },
  {
   "cell_type": "markdown",
   "metadata": {},
   "source": [
    "Most hispanic and white voters who refused to report their education appear most likely to vote for trump, while black voters who refused to report their education and other voters who refused to report their race as well were more likely to not know whow to vote for. This shows clear ambiguity in teh data, where the uncertainty of the voter yields uncertainty in polling estimes."
   ]
  },
  {
   "cell_type": "code",
   "execution_count": 129,
   "metadata": {},
   "outputs": [
    {
     "data": {
      "text/plain": [
       "<matplotlib.axes._subplots.AxesSubplot at 0x7f9b97072890>"
      ]
     },
     "execution_count": 129,
     "metadata": {},
     "output_type": "execute_result"
    },
    {
     "data": {
      "image/png": "[encoded data removed]",
      "text/plain": [
       "<Figure size 432x288 with 1 Axes>"
      ]
     },
     "metadata": {
      "needs_background": "light"
     },
     "output_type": "display_data"
    }
   ],
   "source": [
    "dfpoll.groupby(['education', 'gender'])['candidate'].value_counts(normalize=True)['Refused'].plot(x='X',kind='bar')"
   ]
  },
  {
   "cell_type": "markdown",
   "metadata": {},
   "source": [
    "Most men and women who reported Refused as their education were more likly to vote for Trump or to not know who to vote for. It seems here that Trump has more support in this group overall than Hillary. "
   ]
  },
  {
   "cell_type": "code",
   "execution_count": 130,
   "metadata": {},
   "outputs": [
    {
     "data": {
      "text/plain": [
       "<matplotlib.axes._subplots.AxesSubplot at 0x7f9b9718db50>"
      ]
     },
     "execution_count": 130,
     "metadata": {},
     "output_type": "execute_result"
    },
    {
     "data": {
      "image/png": "[encoded data removed]",
      "text/plain": [
       "<Figure size 432x288 with 1 Axes>"
      ]
     },
     "metadata": {
      "needs_background": "light"
     },
     "output_type": "display_data"
    }
   ],
   "source": [
    "dfpoll.groupby(['education', 'age'])['candidate'].value_counts(normalize=True)['Refused'].plot(x='X',kind='bar')"
   ]
  },
  {
   "cell_type": "markdown",
   "metadata": {},
   "source": [
    "For those who reported Refused as their education, a majority reported over all age groups reported that either they do not know who to vote for or they will note vote. Donald Trump seems to be the favored candidate after the uncertain voters, and Hillary clinton is favored in the older population. This plot clearly shows that the polling results used in our methods in Part B only come from 4 out of the 8 columns in this plot -- we are missing data and failing to account for the other valuable half of this data by leaving out Refused voters."
   ]
  },
  {
   "cell_type": "markdown",
   "metadata": {},
   "source": [
    "<font color='blue'> ii. You'll notice that there are many responses with \"refused,\" and that those people in particular are Trump-leaning. The weighting techniques we used above would ignore these people. How would you adjust your procedures/estimates above to take them into account? Especially convincing would be plots/calculations on what would happen under hypothetical data. Answer in at most 3 sentences."
   ]
  },
  {
   "cell_type": "markdown",
   "metadata": {},
   "source": [
    "You can run a logistic regression for each demographic type that is reported as refused, using other features that exclude the refused category, in order to predict which candidate they are likely to vote for and encorporate that prediction into the final polling average. Similarly, you can weight each refused category by the polling percent within all of the refused and multiply it by refused group's population proportion in dfpoll to include the refused responses in the final polling estimate, but it would probably be best to do 2-dimensional marginal distribution weighting in order to account for discrepancies plotted above."
   ]
  },
  {
   "cell_type": "markdown",
   "metadata": {},
   "source": [
    "<font color='blue'> None of the above techniques deal with selection biases/non-response on _un-measured_ covariates. Do you think that may be an important concern in this dataset? Why or why not? Respond in 3 or fewer sentences."
   ]
  },
  {
   "cell_type": "markdown",
   "metadata": {},
   "source": [
    "Yes, I think the voters who said 'do not now' or 'will not vote' show that this is a concern in this dataset. These voters likely represent the population of 'Shy Trumpe voters' who voted during the 2020 election but failed to report their Trump votes in earlier polls. There are other variables that affect whether a voter reports their vote in a poll or in an actual election, such as social network influence in a given area, and this is important to measure especially in polling data within one location (Florida in this dataset)."
   ]
  },
  {
   "cell_type": "markdown",
   "metadata": {},
   "source": [
    "### 2) Final estimates"
   ]
  },
  {
   "cell_type": "markdown",
   "metadata": {},
   "source": [
    "<font color='blue'> Throughout this homework, you made many estimates of the same quantity -- the fraction of people who will vote for Clinton in Florida. Below, plot a histogram of all your estimates."
   ]
  },
  {
   "cell_type": "code",
   "execution_count": 172,
   "metadata": {},
   "outputs": [],
   "source": [
    "import matplotlib.pyplot as plt\n",
    "\n",
    "estimates = [racegender_avg, partygender_avg]\n",
    "\n",
    "for i in final_df_double['Weighted Poll (% Hillary)']:\n",
    "    estimates.append(i)\n",
    "\n",
    "for i in final_df_single['Weighted Poll (% Hillary)']:\n",
    "    estimates.append(i)"
   ]
  },
  {
   "cell_type": "code",
   "execution_count": 125,
   "metadata": {},
   "outputs": [
    {
     "data": {
      "image/png": "[encoded data removed]",
      "text/plain": [
       "<Figure size 720x432 with 1 Axes>"
      ]
     },
     "metadata": {
      "needs_background": "light"
     },
     "output_type": "display_data"
    }
   ],
   "source": [
    "plt.figure(figsize=(10, 6))\n",
    "\n",
    "plt.hist(estimates)\n",
    "plt.locator_params(axis='x', nbins=20)\n",
    "plt.xlabel('% Estimate of Sample that will vote for Hillary')\n",
    "plt.ylabel('Count')\n",
    "\n",
    "plt.show()"
   ]
  },
  {
   "cell_type": "markdown",
   "metadata": {},
   "source": [
    "<font color='blue'> Given all your above analysis, if you were a pollster what would you report as your single estimate? "
   ]
  },
  {
   "cell_type": "code",
   "execution_count": 126,
   "metadata": {},
   "outputs": [
    {
     "name": "stdout",
     "output_type": "stream",
     "text": [
      "52.5781 %\n"
     ]
    }
   ],
   "source": [
    "import numpy as np\n",
    "single_est=round(np.median(estimates), 4)\n",
    "print(single_est, '%')"
   ]
  },
  {
   "cell_type": "markdown",
   "metadata": {},
   "source": [
    "<font color='blue'> Justify your choice, in at most 3 sentences"
   ]
  },
  {
   "cell_type": "markdown",
   "metadata": {},
   "source": [
    "The median is considered the best measure of central tendency because it is 'it is unaffected by extreme outliers or non-symmetric distributions of scores' (source linked below). Additionally, most of the estimates favored Hillary to win, which isn't accurate in retrospect, but those are what the data shows after our weighting techniques. I do believe that better weighting techniques will yield a better single estimate."
   ]
  },
  {
   "cell_type": "markdown",
   "metadata": {},
   "source": [
    "https://www.scribbr.com/statistics/central-tendency/#:~:text=For%20normally%20distributed%20data%2C%20all,non%2Dsymmetric%20distributions%20of%20scores."
   ]
  },
  {
   "cell_type": "markdown",
   "metadata": {},
   "source": [
    "<font color='blue'> Though we did not discuss how to calculate margin of error or standard errors with weighting in this course, what would you say if someone asked you how confident you are in your estimate? You may either qualitatively answer, or try to come up with a margin of error.  "
   ]
  },
  {
   "cell_type": "markdown",
   "metadata": {},
   "source": [
    "I would say that I'm not fully confident in my final estimate. I say this because I don't have real polling data from the 2020 election in this section of Florida so I can't calculate the accuracy of our weighting methods. Doing this comparison between estimates and real averages would check how far off our polling estimates were, but also give us a metric for how representative our sample is from the actual population distribution. Although this isn't possible in a real polling estimation case, there will always be uncertainty any time you are trying to predict some outcome. One major reason I don't have much confidence in our polling estimate is because of the amount of uncertainty injected through the refused answers and 'do not know' or 'will not vote' answers. If we find a way to measure and minimize this  uncertainty of answers within the dataset, then we can better estimate the final polling average and minimize our overall uncertainty after weighted averaging calculations."
   ]
  }
 ],
 "metadata": {
  "kernelspec": {
   "display_name": "Python 3",
   "language": "python",
   "name": "python3"
  },
  "language_info": {
   "codemirror_mode": {
    "name": "ipython",
    "version": 3
   },
   "file_extension": ".py",
   "mimetype": "text/x-python",
   "name": "python",
   "nbconvert_exporter": "python",
   "pygments_lexer": "ipython3",
   "version": "3.7.4"
  },
  "varInspector": {
   "cols": {
    "lenName": 16,
    "lenType": 16,
    "lenVar": 40
   },
   "kernels_config": {
    "python": {
     "delete_cmd_postfix": "",
     "delete_cmd_prefix": "del ",
     "library": "var_list.py",
     "varRefreshCmd": "print(var_dic_list())"
    },
    "r": {
     "delete_cmd_postfix": ") ",
     "delete_cmd_prefix": "rm(",
     "library": "var_list.r",
     "varRefreshCmd": "cat(var_dic_list()) "
    }
   },
   "types_to_exclude": [
    "module",
    "function",
    "builtin_function_or_method",
    "instance",
    "_Feature"
   ],
   "window_display": false
  }
 },
 "nbformat": 4,
 "nbformat_minor": 2
}
